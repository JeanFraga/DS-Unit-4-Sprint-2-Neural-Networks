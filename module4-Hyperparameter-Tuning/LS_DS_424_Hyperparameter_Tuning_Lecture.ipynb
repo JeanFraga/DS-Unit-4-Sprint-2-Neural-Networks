{
 "cells": [
  {
   "cell_type": "markdown",
   "metadata": {
    "colab_type": "text",
    "id": "41TS0Sa0rDNx"
   },
   "source": [
    "Lambda School Data Science\n",
    "\n",
    "*Unit 4, Sprint 2, Module 4*\n",
    "\n",
    "---"
   ]
  },
  {
   "cell_type": "markdown",
   "metadata": {
    "colab_type": "text",
    "id": "41TS0Sa0rDNx"
   },
   "source": [
    "# Neural Networks & GPUs (Prepare)\n",
    "*aka Hyperparameter Tuning*\n",
    "\n",
    "*aka Big Servers for Big Problems*"
   ]
  },
  {
   "cell_type": "markdown",
   "metadata": {
    "colab_type": "text",
    "id": "41TS0Sa0rDNx"
   },
   "source": [
    "## Learning Objectives\n",
    "* <a href=\"#p1\">Part 1</a>: Describe the major hyperparemeters to tune\n",
    "* <a href=\"#p2\">Part 2</a>: Implement an experiment tracking framework\n",
    "* <a href=\"#p3\">Part 3</a>: Search the hyperparameter space using RandomSearch (Optional)"
   ]
  },
  {
   "cell_type": "markdown",
   "metadata": {},
   "source": [
    "# Hyperparameter Options (Learn)\n",
    "<a id=\"p1\"></a>"
   ]
  },
  {
   "cell_type": "markdown",
   "metadata": {},
   "source": [
    "## Overview\n",
    "\n",
    "Hyperparameter tuning is much more important with neural networks than it has been with any other models that we have considered up to this point. Other supervised learning models might have a couple of parameters, but neural networks can have dozens. These can substantially affect the accuracy of our models and although it can be a time consuming process is a necessary step when working with neural networks.\n",
    "​\n",
    "Hyperparameter tuning comes with a challenge. How can we compare models specified with different hyperparameters if our model's final error metric can vary somewhat erratically? How do we avoid just getting unlucky and selecting the wrong hyperparameter? This is a problem that to a certain degree we just have to live with as we test and test again. However, we can minimize it somewhat by pairing our experiments with Cross Validation to reduce the variance of our final accuracy values."
   ]
  },
  {
   "cell_type": "code",
   "execution_count": 1,
   "metadata": {},
   "outputs": [
    {
     "ename": "ModuleNotFoundError",
     "evalue": "No module named 'tensorflow'",
     "output_type": "error",
     "traceback": [
      "\u001b[1;31m---------------------------------------------------------------------------\u001b[0m",
      "\u001b[1;31mModuleNotFoundError\u001b[0m                       Traceback (most recent call last)",
      "\u001b[1;32m<ipython-input-1-2f19147a4fbd>\u001b[0m in \u001b[0;36m<module>\u001b[1;34m\u001b[0m\n\u001b[1;32m----> 1\u001b[1;33m \u001b[1;32mimport\u001b[0m \u001b[0mtensorflow\u001b[0m \u001b[1;32mas\u001b[0m \u001b[0mtf\u001b[0m\u001b[1;33m\u001b[0m\u001b[1;33m\u001b[0m\u001b[0m\n\u001b[0m\u001b[0;32m      2\u001b[0m \u001b[0mtf\u001b[0m\u001b[1;33m.\u001b[0m\u001b[0menable_eager_execution\u001b[0m\u001b[1;33m(\u001b[0m\u001b[1;33m)\u001b[0m\u001b[1;33m\u001b[0m\u001b[1;33m\u001b[0m\u001b[0m\n",
      "\u001b[1;31mModuleNotFoundError\u001b[0m: No module named 'tensorflow'"
     ]
    }
   ],
   "source": [
    "import tensorflow as tf\n",
    "tf.enable_eager_execution()"
   ]
  },
  {
   "cell_type": "markdown",
   "metadata": {
    "colab_type": "text",
    "id": "0s0o2pqBs88q"
   },
   "source": [
    "### Load Boston Housing Data"
   ]
  },
  {
   "cell_type": "code",
   "execution_count": null,
   "metadata": {},
   "outputs": [
    {
     "name": "stderr",
     "output_type": "stream",
     "text": [
      "ERROR:root:Internal Python error in the inspect module.\n",
      "Below is the traceback from this internal error.\n",
      "\n"
     ]
    },
    {
     "name": "stdout",
     "output_type": "stream",
     "text": [
      "Traceback (most recent call last):\n",
      "  File \"C:\\ProgramData\\Anaconda3\\lib\\site-packages\\IPython\\core\\interactiveshell.py\", line 3319, in run_code\n",
      "    exec(code_obj, self.user_global_ns, self.user_ns)\n",
      "  File \"<ipython-input-2-867b6e727666>\", line 1, in <module>\n",
      "    from tensorflow.keras.datasets import boston_housing\n",
      "  File \"<frozen importlib._bootstrap>\", line 983, in _find_and_load\n",
      "  File \"<frozen importlib._bootstrap>\", line 959, in _find_and_load_unlocked\n",
      "  File \"C:\\ProgramData\\Anaconda3\\lib\\site-packages\\tensorflow\\__init__.py\", line 50, in __getattr__\n",
      "    module = self._load()\n",
      "  File \"C:\\ProgramData\\Anaconda3\\lib\\site-packages\\tensorflow\\__init__.py\", line 44, in _load\n",
      "    module = _importlib.import_module(self.__name__)\n",
      "  File \"C:\\ProgramData\\Anaconda3\\lib\\importlib\\__init__.py\", line 127, in import_module\n",
      "    return _bootstrap._gcd_import(name[level:], package, level)\n",
      "  File \"C:\\ProgramData\\Anaconda3\\lib\\site-packages\\tensorflow_core\\__init__.py\", line 42, in <module>\n",
      "    from . _api.v2 import audio\n",
      "  File \"C:\\ProgramData\\Anaconda3\\lib\\site-packages\\tensorflow_core\\_api\\v2\\audio\\__init__.py\", line 10, in <module>\n",
      "    from tensorflow.python.ops.gen_audio_ops import decode_wav\n",
      "  File \"C:\\ProgramData\\Anaconda3\\lib\\site-packages\\tensorflow_core\\python\\ops\\gen_audio_ops.py\", line 11, in <module>\n",
      "    from tensorflow.python.eager import context as _context\n",
      "  File \"C:\\ProgramData\\Anaconda3\\lib\\site-packages\\tensorflow_core\\python\\eager\\context.py\", line 29, in <module>\n",
      "    from tensorflow.core.protobuf import config_pb2\n",
      "  File \"C:\\ProgramData\\Anaconda3\\lib\\site-packages\\tensorflow_core\\core\\protobuf\\config_pb2.py\", line 16, in <module>\n",
      "    from tensorflow.core.framework import cost_graph_pb2 as tensorflow_dot_core_dot_framework_dot_cost__graph__pb2\n",
      "  File \"C:\\ProgramData\\Anaconda3\\lib\\site-packages\\tensorflow_core\\core\\framework\\cost_graph_pb2.py\", line 16, in <module>\n",
      "    from tensorflow.core.framework import tensor_shape_pb2 as tensorflow_dot_core_dot_framework_dot_tensor__shape__pb2\n",
      "  File \"C:\\ProgramData\\Anaconda3\\lib\\site-packages\\tensorflow_core\\core\\framework\\tensor_shape_pb2.py\", line 112, in <module>\n",
      "    '__module__' : 'tensorflow.core.framework.tensor_shape_pb2'\n",
      "TypeError: expected bytes, Descriptor found\n",
      "\n",
      "During handling of the above exception, another exception occurred:\n",
      "\n",
      "Traceback (most recent call last):\n",
      "  File \"C:\\ProgramData\\Anaconda3\\lib\\site-packages\\IPython\\core\\interactiveshell.py\", line 2034, in showtraceback\n",
      "    stb = value._render_traceback_()\n",
      "AttributeError: 'TypeError' object has no attribute '_render_traceback_'\n",
      "\n",
      "During handling of the above exception, another exception occurred:\n",
      "\n",
      "Traceback (most recent call last):\n",
      "  File \"C:\\ProgramData\\Anaconda3\\lib\\site-packages\\IPython\\core\\ultratb.py\", line 1101, in get_records\n",
      "    return _fixed_getinnerframes(etb, number_of_lines_of_context, tb_offset)\n",
      "  File \"C:\\ProgramData\\Anaconda3\\lib\\site-packages\\IPython\\core\\ultratb.py\", line 319, in wrapped\n",
      "    return f(*args, **kwargs)\n",
      "  File \"C:\\ProgramData\\Anaconda3\\lib\\site-packages\\IPython\\core\\ultratb.py\", line 353, in _fixed_getinnerframes\n",
      "    records = fix_frame_records_filenames(inspect.getinnerframes(etb, context))\n",
      "  File \"C:\\ProgramData\\Anaconda3\\lib\\inspect.py\", line 1502, in getinnerframes\n",
      "    frameinfo = (tb.tb_frame,) + getframeinfo(tb, context)\n",
      "  File \"C:\\ProgramData\\Anaconda3\\lib\\inspect.py\", line 1460, in getframeinfo\n",
      "    filename = getsourcefile(frame) or getfile(frame)\n",
      "  File \"C:\\ProgramData\\Anaconda3\\lib\\inspect.py\", line 696, in getsourcefile\n",
      "    if getattr(getmodule(object, filename), '__loader__', None) is not None:\n",
      "  File \"C:\\ProgramData\\Anaconda3\\lib\\inspect.py\", line 733, in getmodule\n",
      "    if ismodule(module) and hasattr(module, '__file__'):\n",
      "  File \"C:\\ProgramData\\Anaconda3\\lib\\site-packages\\tensorflow\\__init__.py\", line 50, in __getattr__\n",
      "    module = self._load()\n",
      "  File \"C:\\ProgramData\\Anaconda3\\lib\\site-packages\\tensorflow\\__init__.py\", line 44, in _load\n",
      "    module = _importlib.import_module(self.__name__)\n",
      "  File \"C:\\ProgramData\\Anaconda3\\lib\\importlib\\__init__.py\", line 127, in import_module\n",
      "    return _bootstrap._gcd_import(name[level:], package, level)\n",
      "  File \"<frozen importlib._bootstrap>\", line 1006, in _gcd_import\n",
      "  File \"<frozen importlib._bootstrap>\", line 983, in _find_and_load\n",
      "  File \"<frozen importlib._bootstrap>\", line 953, in _find_and_load_unlocked\n",
      "  File \"<frozen importlib._bootstrap>\", line 219, in _call_with_frames_removed\n",
      "  File \"<frozen importlib._bootstrap>\", line 1006, in _gcd_import\n",
      "  File \"<frozen importlib._bootstrap>\", line 983, in _find_and_load\n",
      "  File \"<frozen importlib._bootstrap>\", line 967, in _find_and_load_unlocked\n",
      "  File \"<frozen importlib._bootstrap>\", line 677, in _load_unlocked\n",
      "  File \"<frozen importlib._bootstrap_external>\", line 728, in exec_module\n",
      "  File \"<frozen importlib._bootstrap>\", line 219, in _call_with_frames_removed\n",
      "  File \"C:\\ProgramData\\Anaconda3\\lib\\site-packages\\tensorflow_core\\__init__.py\", line 42, in <module>\n",
      "    from . _api.v2 import audio\n",
      "  File \"C:\\ProgramData\\Anaconda3\\lib\\site-packages\\tensorflow_core\\_api\\v2\\audio\\__init__.py\", line 10, in <module>\n",
      "    from tensorflow.python.ops.gen_audio_ops import decode_wav\n",
      "  File \"C:\\ProgramData\\Anaconda3\\lib\\site-packages\\tensorflow_core\\python\\ops\\gen_audio_ops.py\", line 11, in <module>\n",
      "    from tensorflow.python.eager import context as _context\n",
      "  File \"C:\\ProgramData\\Anaconda3\\lib\\site-packages\\tensorflow_core\\python\\eager\\context.py\", line 29, in <module>\n",
      "    from tensorflow.core.protobuf import config_pb2\n",
      "  File \"C:\\ProgramData\\Anaconda3\\lib\\site-packages\\tensorflow_core\\core\\protobuf\\config_pb2.py\", line 16, in <module>\n",
      "    from tensorflow.core.framework import cost_graph_pb2 as tensorflow_dot_core_dot_framework_dot_cost__graph__pb2\n",
      "  File \"C:\\ProgramData\\Anaconda3\\lib\\site-packages\\tensorflow_core\\core\\framework\\cost_graph_pb2.py\", line 16, in <module>\n",
      "    from tensorflow.core.framework import tensor_shape_pb2 as tensorflow_dot_core_dot_framework_dot_tensor__shape__pb2\n",
      "  File \"C:\\ProgramData\\Anaconda3\\lib\\site-packages\\tensorflow_core\\core\\framework\\tensor_shape_pb2.py\", line 112, in <module>\n",
      "    '__module__' : 'tensorflow.core.framework.tensor_shape_pb2'\n",
      "TypeError: expected bytes, Descriptor found\n"
     ]
    },
    {
     "ename": "TypeError",
     "evalue": "expected bytes, Descriptor found",
     "output_type": "error",
     "traceback": [
      "\u001b[1;31m---------------------------------------------------------------------------\u001b[0m"
     ]
    }
   ],
   "source": [
    "from tensorflow.keras.datasets import boston_housing\n",
    "\n",
    "(x_train, y_train), (x_test, y_test) = boston_housing.load_data()"
   ]
  },
  {
   "cell_type": "code",
   "execution_count": null,
   "metadata": {},
   "outputs": [],
   "source": []
  },
  {
   "cell_type": "markdown",
   "metadata": {
    "colab_type": "text",
    "id": "Pm7zow5IvaTt"
   },
   "source": [
    "### Normalizing Input Data\n",
    "\n",
    "It's not 100% necessary to normalize/scale your input data before feeding it to a neural network, the network can learn the appropriate weights to deal with data of as long as it is numerically represented,  but it is recommended as it can help **make training faster** and **reduces the chances that gradient descent might get stuck in a local optimum**.\n",
    "\n",
    "<https://stackoverflow.com/questions/4674623/why-do-we-have-to-normalize-the-input-for-an-artificial-neural-network>"
   ]
  },
  {
   "cell_type": "code",
   "execution_count": 3,
   "metadata": {},
   "outputs": [
    {
     "name": "stderr",
     "output_type": "stream",
     "text": [
      "ERROR:root:Internal Python error in the inspect module.\n",
      "Below is the traceback from this internal error.\n",
      "\n"
     ]
    },
    {
     "name": "stdout",
     "output_type": "stream",
     "text": [
      "Traceback (most recent call last):\n",
      "  File \"C:\\ProgramData\\Anaconda3\\lib\\site-packages\\IPython\\core\\interactiveshell.py\", line 3319, in run_code\n",
      "    exec(code_obj, self.user_global_ns, self.user_ns)\n",
      "  File \"<ipython-input-3-478b5f08d121>\", line 5, in <module>\n",
      "    x_train = scaler.fit_transform(x_train)\n",
      "NameError: name 'x_train' is not defined\n",
      "\n",
      "During handling of the above exception, another exception occurred:\n",
      "\n",
      "Traceback (most recent call last):\n",
      "  File \"C:\\ProgramData\\Anaconda3\\lib\\site-packages\\IPython\\core\\interactiveshell.py\", line 2034, in showtraceback\n",
      "    stb = value._render_traceback_()\n",
      "AttributeError: 'NameError' object has no attribute '_render_traceback_'\n",
      "\n",
      "During handling of the above exception, another exception occurred:\n",
      "\n",
      "Traceback (most recent call last):\n",
      "  File \"C:\\ProgramData\\Anaconda3\\lib\\site-packages\\IPython\\core\\ultratb.py\", line 1101, in get_records\n",
      "    return _fixed_getinnerframes(etb, number_of_lines_of_context, tb_offset)\n",
      "  File \"C:\\ProgramData\\Anaconda3\\lib\\site-packages\\IPython\\core\\ultratb.py\", line 319, in wrapped\n",
      "    return f(*args, **kwargs)\n",
      "  File \"C:\\ProgramData\\Anaconda3\\lib\\site-packages\\IPython\\core\\ultratb.py\", line 353, in _fixed_getinnerframes\n",
      "    records = fix_frame_records_filenames(inspect.getinnerframes(etb, context))\n",
      "  File \"C:\\ProgramData\\Anaconda3\\lib\\inspect.py\", line 1502, in getinnerframes\n",
      "    frameinfo = (tb.tb_frame,) + getframeinfo(tb, context)\n",
      "  File \"C:\\ProgramData\\Anaconda3\\lib\\inspect.py\", line 1460, in getframeinfo\n",
      "    filename = getsourcefile(frame) or getfile(frame)\n",
      "  File \"C:\\ProgramData\\Anaconda3\\lib\\inspect.py\", line 696, in getsourcefile\n",
      "    if getattr(getmodule(object, filename), '__loader__', None) is not None:\n",
      "  File \"C:\\ProgramData\\Anaconda3\\lib\\inspect.py\", line 733, in getmodule\n",
      "    if ismodule(module) and hasattr(module, '__file__'):\n",
      "  File \"C:\\ProgramData\\Anaconda3\\lib\\site-packages\\tensorflow\\__init__.py\", line 50, in __getattr__\n",
      "    module = self._load()\n",
      "  File \"C:\\ProgramData\\Anaconda3\\lib\\site-packages\\tensorflow\\__init__.py\", line 44, in _load\n",
      "    module = _importlib.import_module(self.__name__)\n",
      "  File \"C:\\ProgramData\\Anaconda3\\lib\\importlib\\__init__.py\", line 127, in import_module\n",
      "    return _bootstrap._gcd_import(name[level:], package, level)\n",
      "  File \"<frozen importlib._bootstrap>\", line 1006, in _gcd_import\n",
      "  File \"<frozen importlib._bootstrap>\", line 983, in _find_and_load\n",
      "  File \"<frozen importlib._bootstrap>\", line 953, in _find_and_load_unlocked\n",
      "  File \"<frozen importlib._bootstrap>\", line 219, in _call_with_frames_removed\n",
      "  File \"<frozen importlib._bootstrap>\", line 1006, in _gcd_import\n",
      "  File \"<frozen importlib._bootstrap>\", line 983, in _find_and_load\n",
      "  File \"<frozen importlib._bootstrap>\", line 967, in _find_and_load_unlocked\n",
      "  File \"<frozen importlib._bootstrap>\", line 677, in _load_unlocked\n",
      "  File \"<frozen importlib._bootstrap_external>\", line 728, in exec_module\n",
      "  File \"<frozen importlib._bootstrap>\", line 219, in _call_with_frames_removed\n",
      "  File \"C:\\ProgramData\\Anaconda3\\lib\\site-packages\\tensorflow_core\\__init__.py\", line 42, in <module>\n",
      "    from . _api.v2 import audio\n",
      "  File \"C:\\ProgramData\\Anaconda3\\lib\\site-packages\\tensorflow_core\\_api\\v2\\audio\\__init__.py\", line 10, in <module>\n",
      "    from tensorflow.python.ops.gen_audio_ops import decode_wav\n",
      "  File \"C:\\ProgramData\\Anaconda3\\lib\\site-packages\\tensorflow_core\\python\\ops\\gen_audio_ops.py\", line 11, in <module>\n",
      "    from tensorflow.python.eager import context as _context\n",
      "  File \"C:\\ProgramData\\Anaconda3\\lib\\site-packages\\tensorflow_core\\python\\eager\\context.py\", line 29, in <module>\n",
      "    from tensorflow.core.protobuf import config_pb2\n",
      "  File \"C:\\ProgramData\\Anaconda3\\lib\\site-packages\\tensorflow_core\\core\\protobuf\\config_pb2.py\", line 16, in <module>\n",
      "    from tensorflow.core.framework import cost_graph_pb2 as tensorflow_dot_core_dot_framework_dot_cost__graph__pb2\n",
      "  File \"C:\\ProgramData\\Anaconda3\\lib\\site-packages\\tensorflow_core\\core\\framework\\cost_graph_pb2.py\", line 16, in <module>\n",
      "    from tensorflow.core.framework import tensor_shape_pb2 as tensorflow_dot_core_dot_framework_dot_tensor__shape__pb2\n",
      "  File \"C:\\ProgramData\\Anaconda3\\lib\\site-packages\\tensorflow_core\\core\\framework\\tensor_shape_pb2.py\", line 112, in <module>\n",
      "    '__module__' : 'tensorflow.core.framework.tensor_shape_pb2'\n",
      "TypeError: expected bytes, Descriptor found\n"
     ]
    },
    {
     "ename": "NameError",
     "evalue": "name 'x_train' is not defined",
     "output_type": "error",
     "traceback": [
      "\u001b[1;31m---------------------------------------------------------------------------\u001b[0m"
     ]
    }
   ],
   "source": [
    "from sklearn.preprocessing import StandardScaler\n",
    "\n",
    "scaler = StandardScaler()\n",
    "\n",
    "x_train = scaler.fit_transform(x_train)\n",
    "x_test = scaler.transform(x_test)\n",
    "print(x_train[:10])"
   ]
  },
  {
   "cell_type": "markdown",
   "metadata": {
    "colab_type": "text",
    "id": "l6hgCWbir90R"
   },
   "source": [
    "### Model Validation using an automatic verification Dataset\n",
    "\n",
    "Instead of doing seperate train test split class, Keras has a really nice feature that you can set the validation.data argument when fitting your model and Keras will take that portion of your test data and use it as a validation dataset. "
   ]
  },
  {
   "cell_type": "code",
   "execution_count": 4,
   "metadata": {
    "colab": {
     "base_uri": "https://localhost:8080/",
     "height": 1750
    },
    "colab_type": "code",
    "collapsed": true,
    "id": "GMXVfmzXp1Oo",
    "jupyter": {
     "outputs_hidden": true
    },
    "outputId": "b05e251e-508f-46e6-865b-f869ae2a5dc4"
   },
   "outputs": [
    {
     "name": "stderr",
     "output_type": "stream",
     "text": [
      "<<<<<<< local\n",
      "=======\n",
      "ERROR:root:Internal Python error in the inspect module.\n",
      "Below is the traceback from this internal error.\n",
      "\n"
     ]
    },
    {
     "name": "stdout",
     "output_type": "stream",
     "text": [
      "Traceback (most recent call last):\n",
      "  File \"C:\\ProgramData\\Anaconda3\\lib\\site-packages\\IPython\\core\\interactiveshell.py\", line 3319, in run_code\n",
      "    exec(code_obj, self.user_global_ns, self.user_ns)\n",
      "  File \"<ipython-input-4-ca2a1412e3bb>\", line 2, in <module>\n",
      "    from tensorflow.keras.models import Sequential\n",
      "  File \"<frozen importlib._bootstrap>\", line 983, in _find_and_load\n",
      "  File \"<frozen importlib._bootstrap>\", line 959, in _find_and_load_unlocked\n",
      "  File \"C:\\ProgramData\\Anaconda3\\lib\\site-packages\\tensorflow\\__init__.py\", line 50, in __getattr__\n",
      "    module = self._load()\n",
      "  File \"C:\\ProgramData\\Anaconda3\\lib\\site-packages\\tensorflow\\__init__.py\", line 44, in _load\n",
      "    module = _importlib.import_module(self.__name__)\n",
      "  File \"C:\\ProgramData\\Anaconda3\\lib\\importlib\\__init__.py\", line 127, in import_module\n",
      "    return _bootstrap._gcd_import(name[level:], package, level)\n",
      "  File \"C:\\ProgramData\\Anaconda3\\lib\\site-packages\\tensorflow_core\\__init__.py\", line 42, in <module>\n",
      "    from . _api.v2 import audio\n",
      "  File \"C:\\ProgramData\\Anaconda3\\lib\\site-packages\\tensorflow_core\\_api\\v2\\audio\\__init__.py\", line 10, in <module>\n",
      "    from tensorflow.python.ops.gen_audio_ops import decode_wav\n",
      "  File \"C:\\ProgramData\\Anaconda3\\lib\\site-packages\\tensorflow_core\\python\\ops\\gen_audio_ops.py\", line 11, in <module>\n",
      "    from tensorflow.python.eager import context as _context\n",
      "  File \"C:\\ProgramData\\Anaconda3\\lib\\site-packages\\tensorflow_core\\python\\eager\\context.py\", line 29, in <module>\n",
      "    from tensorflow.core.protobuf import config_pb2\n",
      "  File \"C:\\ProgramData\\Anaconda3\\lib\\site-packages\\tensorflow_core\\core\\protobuf\\config_pb2.py\", line 16, in <module>\n",
      "    from tensorflow.core.framework import cost_graph_pb2 as tensorflow_dot_core_dot_framework_dot_cost__graph__pb2\n",
      "  File \"C:\\ProgramData\\Anaconda3\\lib\\site-packages\\tensorflow_core\\core\\framework\\cost_graph_pb2.py\", line 16, in <module>\n",
      "    from tensorflow.core.framework import tensor_shape_pb2 as tensorflow_dot_core_dot_framework_dot_tensor__shape__pb2\n",
      "  File \"C:\\ProgramData\\Anaconda3\\lib\\site-packages\\tensorflow_core\\core\\framework\\tensor_shape_pb2.py\", line 112, in <module>\n",
      "    '__module__' : 'tensorflow.core.framework.tensor_shape_pb2'\n",
      "TypeError: expected bytes, Descriptor found\n",
      "\n",
      "During handling of the above exception, another exception occurred:\n",
      "\n",
      "Traceback (most recent call last):\n",
      "  File \"C:\\ProgramData\\Anaconda3\\lib\\site-packages\\IPython\\core\\interactiveshell.py\", line 2034, in showtraceback\n",
      "    stb = value._render_traceback_()\n",
      "AttributeError: 'TypeError' object has no attribute '_render_traceback_'\n",
      "\n",
      "During handling of the above exception, another exception occurred:\n",
      "\n",
      "Traceback (most recent call last):\n",
      "  File \"C:\\ProgramData\\Anaconda3\\lib\\site-packages\\IPython\\core\\ultratb.py\", line 1101, in get_records\n",
      "    return _fixed_getinnerframes(etb, number_of_lines_of_context, tb_offset)\n",
      "  File \"C:\\ProgramData\\Anaconda3\\lib\\site-packages\\IPython\\core\\ultratb.py\", line 319, in wrapped\n",
      "    return f(*args, **kwargs)\n",
      "  File \"C:\\ProgramData\\Anaconda3\\lib\\site-packages\\IPython\\core\\ultratb.py\", line 353, in _fixed_getinnerframes\n",
      "    records = fix_frame_records_filenames(inspect.getinnerframes(etb, context))\n",
      "  File \"C:\\ProgramData\\Anaconda3\\lib\\inspect.py\", line 1502, in getinnerframes\n",
      "    frameinfo = (tb.tb_frame,) + getframeinfo(tb, context)\n",
      "  File \"C:\\ProgramData\\Anaconda3\\lib\\inspect.py\", line 1460, in getframeinfo\n",
      "    filename = getsourcefile(frame) or getfile(frame)\n",
      "  File \"C:\\ProgramData\\Anaconda3\\lib\\inspect.py\", line 696, in getsourcefile\n",
      "    if getattr(getmodule(object, filename), '__loader__', None) is not None:\n",
      "  File \"C:\\ProgramData\\Anaconda3\\lib\\inspect.py\", line 733, in getmodule\n",
      "    if ismodule(module) and hasattr(module, '__file__'):\n",
      "  File \"C:\\ProgramData\\Anaconda3\\lib\\site-packages\\tensorflow\\__init__.py\", line 50, in __getattr__\n",
      "    module = self._load()\n",
      "  File \"C:\\ProgramData\\Anaconda3\\lib\\site-packages\\tensorflow\\__init__.py\", line 44, in _load\n",
      "    module = _importlib.import_module(self.__name__)\n",
      "  File \"C:\\ProgramData\\Anaconda3\\lib\\importlib\\__init__.py\", line 127, in import_module\n",
      "    return _bootstrap._gcd_import(name[level:], package, level)\n",
      "  File \"<frozen importlib._bootstrap>\", line 1006, in _gcd_import\n",
      "  File \"<frozen importlib._bootstrap>\", line 983, in _find_and_load\n",
      "  File \"<frozen importlib._bootstrap>\", line 953, in _find_and_load_unlocked\n",
      "  File \"<frozen importlib._bootstrap>\", line 219, in _call_with_frames_removed\n",
      "  File \"<frozen importlib._bootstrap>\", line 1006, in _gcd_import\n",
      "  File \"<frozen importlib._bootstrap>\", line 983, in _find_and_load\n",
      "  File \"<frozen importlib._bootstrap>\", line 967, in _find_and_load_unlocked\n",
      "  File \"<frozen importlib._bootstrap>\", line 677, in _load_unlocked\n",
      "  File \"<frozen importlib._bootstrap_external>\", line 728, in exec_module\n",
      "  File \"<frozen importlib._bootstrap>\", line 219, in _call_with_frames_removed\n",
      "  File \"C:\\ProgramData\\Anaconda3\\lib\\site-packages\\tensorflow_core\\__init__.py\", line 42, in <module>\n",
      "    from . _api.v2 import audio\n",
      "  File \"C:\\ProgramData\\Anaconda3\\lib\\site-packages\\tensorflow_core\\_api\\v2\\audio\\__init__.py\", line 10, in <module>\n",
      "    from tensorflow.python.ops.gen_audio_ops import decode_wav\n",
      "  File \"C:\\ProgramData\\Anaconda3\\lib\\site-packages\\tensorflow_core\\python\\ops\\gen_audio_ops.py\", line 11, in <module>\n",
      "    from tensorflow.python.eager import context as _context\n",
      "  File \"C:\\ProgramData\\Anaconda3\\lib\\site-packages\\tensorflow_core\\python\\eager\\context.py\", line 29, in <module>\n",
      "    from tensorflow.core.protobuf import config_pb2\n",
      "  File \"C:\\ProgramData\\Anaconda3\\lib\\site-packages\\tensorflow_core\\core\\protobuf\\config_pb2.py\", line 16, in <module>\n",
      "    from tensorflow.core.framework import cost_graph_pb2 as tensorflow_dot_core_dot_framework_dot_cost__graph__pb2\n",
      "  File \"C:\\ProgramData\\Anaconda3\\lib\\site-packages\\tensorflow_core\\core\\framework\\cost_graph_pb2.py\", line 16, in <module>\n",
      "    from tensorflow.core.framework import tensor_shape_pb2 as tensorflow_dot_core_dot_framework_dot_tensor__shape__pb2\n",
      "  File \"C:\\ProgramData\\Anaconda3\\lib\\site-packages\\tensorflow_core\\core\\framework\\tensor_shape_pb2.py\", line 112, in <module>\n",
      "    '__module__' : 'tensorflow.core.framework.tensor_shape_pb2'\n",
      "TypeError: expected bytes, Descriptor found\n"
     ]
    },
    {
     "ename": "TypeError",
     "evalue": "expected bytes, Descriptor found",
     "output_type": "error",
     "traceback": [
      "\u001b[1;31m---------------------------------------------------------------------------\u001b[0m"
     ]
    },
    {
     "name": "stderr",
     "output_type": "stream",
     "text": [
      ">>>>>>> remote\n",
      "<<<<<<< local <modified: >\n"
     ]
    },
    {
     "name": "stdout",
     "output_type": "stream",
     "text": [
      "WARNING:tensorflow:From /home/ec2-user/anaconda3/envs/tensorflow_p36/lib/python3.6/site-packages/tensorflow/python/ops/init_ops.py:1251: calling VarianceScaling.__init__ (from tensorflow.python.ops.init_ops) with dtype is deprecated and will be removed in a future version.\n",
      "Instructions for updating:\n",
      "Call initializer instance with the dtype argument instead of passing it to the constructor\n",
      "Train on 404 samples, validate on 102 samples\n",
      "Epoch 1/75\n",
      "404/404 [==============================] - 1s 2ms/sample - loss: 538.8647 - mean_squared_error: 538.8647 - mean_absolute_error: 21.3563 - val_loss: 481.7828 - val_mean_squared_error: 481.7827 - val_mean_absolute_error: 20.0411\n",
      "Epoch 2/75\n",
      "404/404 [==============================] - 0s 232us/sample - loss: 315.1273 - mean_squared_error: 315.1273 - mean_absolute_error: 15.3074 - val_loss: 157.1994 - val_mean_squared_error: 157.1995 - val_mean_absolute_error: 10.4929\n",
      "Epoch 3/75\n",
      "404/404 [==============================] - 0s 250us/sample - loss: 85.1825 - mean_squared_error: 85.1825 - mean_absolute_error: 6.8556 - val_loss: 54.8689 - val_mean_squared_error: 54.8689 - val_mean_absolute_error: 5.8062\n",
      "Epoch 4/75\n",
      "404/404 [==============================] - 0s 239us/sample - loss: 40.6229 - mean_squared_error: 40.6229 - mean_absolute_error: 4.4935 - val_loss: 35.2884 - val_mean_squared_error: 35.2884 - val_mean_absolute_error: 4.8399\n",
      "Epoch 5/75\n",
      "404/404 [==============================] - 0s 233us/sample - loss: 27.7998 - mean_squared_error: 27.7998 - mean_absolute_error: 3.8160 - val_loss: 29.1113 - val_mean_squared_error: 29.1113 - val_mean_absolute_error: 4.2849\n",
      "Epoch 6/75\n",
      "404/404 [==============================] - 0s 228us/sample - loss: 22.7130 - mean_squared_error: 22.7130 - mean_absolute_error: 3.3544 - val_loss: 26.1061 - val_mean_squared_error: 26.1061 - val_mean_absolute_error: 4.0900\n",
      "Epoch 7/75\n",
      "404/404 [==============================] - 0s 231us/sample - loss: 19.5163 - mean_squared_error: 19.5163 - mean_absolute_error: 3.1208 - val_loss: 24.1419 - val_mean_squared_error: 24.1419 - val_mean_absolute_error: 3.8302\n",
      "Epoch 8/75\n",
      "404/404 [==============================] - 0s 229us/sample - loss: 17.4655 - mean_squared_error: 17.4655 - mean_absolute_error: 2.9571 - val_loss: 23.7287 - val_mean_squared_error: 23.7287 - val_mean_absolute_error: 3.7165\n",
      "Epoch 9/75\n",
      "404/404 [==============================] - 0s 260us/sample - loss: 15.7019 - mean_squared_error: 15.7019 - mean_absolute_error: 2.7971 - val_loss: 22.8785 - val_mean_squared_error: 22.8785 - val_mean_absolute_error: 3.5709\n",
      "Epoch 10/75\n",
      "404/404 [==============================] - 0s 228us/sample - loss: 14.3792 - mean_squared_error: 14.3792 - mean_absolute_error: 2.6886 - val_loss: 22.4724 - val_mean_squared_error: 22.4724 - val_mean_absolute_error: 3.5042\n",
      "Epoch 11/75\n",
      "404/404 [==============================] - 0s 237us/sample - loss: 13.2757 - mean_squared_error: 13.2757 - mean_absolute_error: 2.6167 - val_loss: 23.3090 - val_mean_squared_error: 23.3090 - val_mean_absolute_error: 3.4933\n",
      "Epoch 12/75\n",
      "404/404 [==============================] - 0s 240us/sample - loss: 12.4425 - mean_squared_error: 12.4425 - mean_absolute_error: 2.5204 - val_loss: 23.3287 - val_mean_squared_error: 23.3287 - val_mean_absolute_error: 3.4076\n",
      "Epoch 13/75\n",
      "404/404 [==============================] - 0s 243us/sample - loss: 11.8014 - mean_squared_error: 11.8014 - mean_absolute_error: 2.4507 - val_loss: 22.3284 - val_mean_squared_error: 22.3284 - val_mean_absolute_error: 3.3138\n",
      "Epoch 14/75\n",
      "404/404 [==============================] - 0s 246us/sample - loss: 11.2083 - mean_squared_error: 11.2083 - mean_absolute_error: 2.3892 - val_loss: 23.1108 - val_mean_squared_error: 23.1108 - val_mean_absolute_error: 3.3159\n",
      "Epoch 15/75\n",
      "404/404 [==============================] - 0s 244us/sample - loss: 11.0776 - mean_squared_error: 11.0776 - mean_absolute_error: 2.3557 - val_loss: 23.0840 - val_mean_squared_error: 23.0840 - val_mean_absolute_error: 3.2705\n",
      "Epoch 16/75\n",
      "404/404 [==============================] - 0s 236us/sample - loss: 10.5780 - mean_squared_error: 10.5780 - mean_absolute_error: 2.3290 - val_loss: 22.7713 - val_mean_squared_error: 22.7713 - val_mean_absolute_error: 3.2109\n",
      "Epoch 17/75\n",
      "404/404 [==============================] - 0s 227us/sample - loss: 10.3110 - mean_squared_error: 10.3110 - mean_absolute_error: 2.3001 - val_loss: 22.8703 - val_mean_squared_error: 22.8703 - val_mean_absolute_error: 3.1845\n",
      "Epoch 18/75\n",
      "404/404 [==============================] - 0s 226us/sample - loss: 10.0521 - mean_squared_error: 10.0521 - mean_absolute_error: 2.2815 - val_loss: 24.1401 - val_mean_squared_error: 24.1401 - val_mean_absolute_error: 3.2630\n",
      "Epoch 19/75\n",
      "404/404 [==============================] - 0s 236us/sample - loss: 9.9470 - mean_squared_error: 9.9470 - mean_absolute_error: 2.2802 - val_loss: 23.6985 - val_mean_squared_error: 23.6985 - val_mean_absolute_error: 3.1881\n",
      "Epoch 20/75\n",
      "404/404 [==============================] - 0s 242us/sample - loss: 9.5661 - mean_squared_error: 9.5661 - mean_absolute_error: 2.2264 - val_loss: 22.6050 - val_mean_squared_error: 22.6050 - val_mean_absolute_error: 3.1140\n",
      "Epoch 21/75\n",
      "404/404 [==============================] - 0s 232us/sample - loss: 9.4916 - mean_squared_error: 9.4916 - mean_absolute_error: 2.2081 - val_loss: 24.8174 - val_mean_squared_error: 24.8174 - val_mean_absolute_error: 3.2735\n",
      "Epoch 22/75\n",
      "404/404 [==============================] - 0s 243us/sample - loss: 9.3051 - mean_squared_error: 9.3051 - mean_absolute_error: 2.2286 - val_loss: 21.9971 - val_mean_squared_error: 21.9971 - val_mean_absolute_error: 3.0363\n",
      "Epoch 23/75\n",
      "404/404 [==============================] - 0s 241us/sample - loss: 9.1115 - mean_squared_error: 9.1115 - mean_absolute_error: 2.1596 - val_loss: 24.7131 - val_mean_squared_error: 24.7131 - val_mean_absolute_error: 3.2496\n",
      "Epoch 24/75\n",
      "404/404 [==============================] - 0s 233us/sample - loss: 9.0690 - mean_squared_error: 9.0690 - mean_absolute_error: 2.1664 - val_loss: 23.5745 - val_mean_squared_error: 23.5745 - val_mean_absolute_error: 3.1331\n",
      "Epoch 25/75\n",
      "404/404 [==============================] - 0s 203us/sample - loss: 8.9448 - mean_squared_error: 8.9448 - mean_absolute_error: 2.1244 - val_loss: 22.6424 - val_mean_squared_error: 22.6424 - val_mean_absolute_error: 3.0698\n",
      "Epoch 26/75\n",
      "404/404 [==============================] - 0s 192us/sample - loss: 8.6971 - mean_squared_error: 8.6971 - mean_absolute_error: 2.1097 - val_loss: 22.0288 - val_mean_squared_error: 22.0288 - val_mean_absolute_error: 3.0053\n",
      "Epoch 27/75\n",
      "404/404 [==============================] - 0s 198us/sample - loss: 8.6988 - mean_squared_error: 8.6988 - mean_absolute_error: 2.0944 - val_loss: 23.1821 - val_mean_squared_error: 23.1821 - val_mean_absolute_error: 3.0760\n",
      "Epoch 28/75\n",
      "404/404 [==============================] - 0s 198us/sample - loss: 8.6527 - mean_squared_error: 8.6527 - mean_absolute_error: 2.1048 - val_loss: 20.9446 - val_mean_squared_error: 20.9446 - val_mean_absolute_error: 2.9247\n",
      "Epoch 29/75\n",
      "404/404 [==============================] - 0s 198us/sample - loss: 8.4074 - mean_squared_error: 8.4074 - mean_absolute_error: 2.0578 - val_loss: 21.6850 - val_mean_squared_error: 21.6850 - val_mean_absolute_error: 2.9336\n",
      "Epoch 30/75\n",
      "404/404 [==============================] - 0s 204us/sample - loss: 8.2209 - mean_squared_error: 8.2209 - mean_absolute_error: 2.0298 - val_loss: 23.0653 - val_mean_squared_error: 23.0653 - val_mean_absolute_error: 3.0741\n",
      "Epoch 31/75\n",
      "404/404 [==============================] - 0s 202us/sample - loss: 8.1599 - mean_squared_error: 8.1599 - mean_absolute_error: 2.0179 - val_loss: 23.0300 - val_mean_squared_error: 23.0300 - val_mean_absolute_error: 3.0292\n",
      "Epoch 32/75\n",
      "404/404 [==============================] - 0s 196us/sample - loss: 8.1310 - mean_squared_error: 8.1310 - mean_absolute_error: 2.0285 - val_loss: 21.8785 - val_mean_squared_error: 21.8785 - val_mean_absolute_error: 2.9139\n",
      "Epoch 33/75\n",
      "404/404 [==============================] - 0s 190us/sample - loss: 7.9875 - mean_squared_error: 7.9875 - mean_absolute_error: 1.9924 - val_loss: 22.5755 - val_mean_squared_error: 22.5755 - val_mean_absolute_error: 3.0338\n",
      "Epoch 34/75\n",
      "404/404 [==============================] - 0s 204us/sample - loss: 7.9764 - mean_squared_error: 7.9764 - mean_absolute_error: 2.0190 - val_loss: 21.6748 - val_mean_squared_error: 21.6748 - val_mean_absolute_error: 2.9128\n",
      "Epoch 35/75\n",
      "404/404 [==============================] - 0s 201us/sample - loss: 7.8739 - mean_squared_error: 7.8739 - mean_absolute_error: 1.9622 - val_loss: 21.8326 - val_mean_squared_error: 21.8326 - val_mean_absolute_error: 3.0270\n",
      "Epoch 36/75\n",
      "404/404 [==============================] - 0s 197us/sample - loss: 7.5539 - mean_squared_error: 7.5539 - mean_absolute_error: 1.9384 - val_loss: 21.5800 - val_mean_squared_error: 21.5800 - val_mean_absolute_error: 2.9048\n",
      "Epoch 37/75\n",
      "404/404 [==============================] - 0s 199us/sample - loss: 7.5552 - mean_squared_error: 7.5552 - mean_absolute_error: 1.9341 - val_loss: 23.1337 - val_mean_squared_error: 23.1337 - val_mean_absolute_error: 3.1202\n",
      "Epoch 38/75\n",
      "404/404 [==============================] - 0s 203us/sample - loss: 7.6434 - mean_squared_error: 7.6434 - mean_absolute_error: 1.9780 - val_loss: 22.3251 - val_mean_squared_error: 22.3251 - val_mean_absolute_error: 2.9978\n",
      "Epoch 39/75\n",
      "404/404 [==============================] - 0s 191us/sample - loss: 7.1865 - mean_squared_error: 7.1865 - mean_absolute_error: 1.9138 - val_loss: 20.2620 - val_mean_squared_error: 20.2620 - val_mean_absolute_error: 2.8056\n",
      "Epoch 40/75\n",
      "404/404 [==============================] - 0s 196us/sample - loss: 7.0935 - mean_squared_error: 7.0935 - mean_absolute_error: 1.8700 - val_loss: 21.3325 - val_mean_squared_error: 21.3325 - val_mean_absolute_error: 2.9582\n",
      "Epoch 41/75\n",
      "404/404 [==============================] - 0s 196us/sample - loss: 7.1290 - mean_squared_error: 7.1290 - mean_absolute_error: 1.8956 - val_loss: 20.1485 - val_mean_squared_error: 20.1485 - val_mean_absolute_error: 2.7816\n",
      "Epoch 42/75\n",
      "404/404 [==============================] - 0s 200us/sample - loss: 6.9641 - mean_squared_error: 6.9641 - mean_absolute_error: 1.8719 - val_loss: 20.6274 - val_mean_squared_error: 20.6274 - val_mean_absolute_error: 2.9172\n",
      "Epoch 43/75\n",
      "404/404 [==============================] - 0s 189us/sample - loss: 6.9360 - mean_squared_error: 6.9360 - mean_absolute_error: 1.8646 - val_loss: 20.0152 - val_mean_squared_error: 20.0152 - val_mean_absolute_error: 2.7645\n",
      "Epoch 44/75\n",
      "404/404 [==============================] - 0s 200us/sample - loss: 6.7210 - mean_squared_error: 6.7210 - mean_absolute_error: 1.8374 - val_loss: 20.0267 - val_mean_squared_error: 20.0267 - val_mean_absolute_error: 2.7425\n",
      "Epoch 45/75\n",
      "404/404 [==============================] - 0s 200us/sample - loss: 6.8090 - mean_squared_error: 6.8090 - mean_absolute_error: 1.8230 - val_loss: 21.4912 - val_mean_squared_error: 21.4912 - val_mean_absolute_error: 2.9279\n",
      "Epoch 46/75\n",
      "404/404 [==============================] - 0s 199us/sample - loss: 6.8814 - mean_squared_error: 6.8814 - mean_absolute_error: 1.8655 - val_loss: 19.5491 - val_mean_squared_error: 19.5491 - val_mean_absolute_error: 2.7798\n",
      "Epoch 47/75\n",
      "404/404 [==============================] - 0s 223us/sample - loss: 6.4591 - mean_squared_error: 6.4591 - mean_absolute_error: 1.8138 - val_loss: 20.4766 - val_mean_squared_error: 20.4766 - val_mean_absolute_error: 2.8451\n",
      "Epoch 48/75\n",
      "404/404 [==============================] - 0s 235us/sample - loss: 6.6555 - mean_squared_error: 6.6555 - mean_absolute_error: 1.8574 - val_loss: 19.5631 - val_mean_squared_error: 19.5631 - val_mean_absolute_error: 2.7320\n",
      "Epoch 49/75\n",
      "404/404 [==============================] - 0s 229us/sample - loss: 6.4954 - mean_squared_error: 6.4954 - mean_absolute_error: 1.8194 - val_loss: 19.7115 - val_mean_squared_error: 19.7115 - val_mean_absolute_error: 2.7449\n",
      "Epoch 50/75\n",
      "404/404 [==============================] - 0s 233us/sample - loss: 6.2936 - mean_squared_error: 6.2936 - mean_absolute_error: 1.7621 - val_loss: 18.9469 - val_mean_squared_error: 18.9469 - val_mean_absolute_error: 2.7292\n",
      "Epoch 51/75\n",
      "404/404 [==============================] - 0s 239us/sample - loss: 6.2926 - mean_squared_error: 6.2926 - mean_absolute_error: 1.8002 - val_loss: 19.5864 - val_mean_squared_error: 19.5864 - val_mean_absolute_error: 2.7784\n",
      "Epoch 52/75\n",
      "404/404 [==============================] - 0s 241us/sample - loss: 6.1879 - mean_squared_error: 6.1879 - mean_absolute_error: 1.7948 - val_loss: 19.3340 - val_mean_squared_error: 19.3340 - val_mean_absolute_error: 2.8521\n",
      "Epoch 53/75\n",
      "404/404 [==============================] - 0s 238us/sample - loss: 6.4262 - mean_squared_error: 6.4262 - mean_absolute_error: 1.8040 - val_loss: 18.7785 - val_mean_squared_error: 18.7785 - val_mean_absolute_error: 2.6964\n",
      "Epoch 54/75\n",
      "404/404 [==============================] - 0s 234us/sample - loss: 6.2734 - mean_squared_error: 6.2734 - mean_absolute_error: 1.7883 - val_loss: 18.7130 - val_mean_squared_error: 18.7130 - val_mean_absolute_error: 2.7548\n",
      "Epoch 55/75\n",
      "404/404 [==============================] - 0s 232us/sample - loss: 6.0650 - mean_squared_error: 6.0650 - mean_absolute_error: 1.7482 - val_loss: 18.5800 - val_mean_squared_error: 18.5800 - val_mean_absolute_error: 2.6746\n",
      "Epoch 56/75\n",
      "404/404 [==============================] - 0s 235us/sample - loss: 5.9679 - mean_squared_error: 5.9679 - mean_absolute_error: 1.7369 - val_loss: 18.6104 - val_mean_squared_error: 18.6104 - val_mean_absolute_error: 2.7751\n",
      "Epoch 57/75\n",
      "404/404 [==============================] - 0s 238us/sample - loss: 5.8603 - mean_squared_error: 5.8603 - mean_absolute_error: 1.7433 - val_loss: 19.3135 - val_mean_squared_error: 19.3135 - val_mean_absolute_error: 2.7775\n",
      "Epoch 58/75\n",
      "404/404 [==============================] - 0s 243us/sample - loss: 5.9375 - mean_squared_error: 5.9375 - mean_absolute_error: 1.7228 - val_loss: 20.3079 - val_mean_squared_error: 20.3079 - val_mean_absolute_error: 2.8706\n",
      "Epoch 59/75\n",
      "404/404 [==============================] - 0s 246us/sample - loss: 5.8672 - mean_squared_error: 5.8672 - mean_absolute_error: 1.7191 - val_loss: 18.2373 - val_mean_squared_error: 18.2373 - val_mean_absolute_error: 2.7412\n",
      "Epoch 60/75\n",
      "404/404 [==============================] - 0s 229us/sample - loss: 5.7950 - mean_squared_error: 5.7950 - mean_absolute_error: 1.7046 - val_loss: 17.8434 - val_mean_squared_error: 17.8434 - val_mean_absolute_error: 2.6193\n",
      "Epoch 61/75\n",
      "404/404 [==============================] - 0s 234us/sample - loss: 5.6550 - mean_squared_error: 5.6550 - mean_absolute_error: 1.6709 - val_loss: 17.7994 - val_mean_squared_error: 17.7994 - val_mean_absolute_error: 2.6625\n",
      "Epoch 62/75\n",
      "404/404 [==============================] - 0s 240us/sample - loss: 5.7565 - mean_squared_error: 5.7565 - mean_absolute_error: 1.7097 - val_loss: 17.3437 - val_mean_squared_error: 17.3437 - val_mean_absolute_error: 2.6438\n",
      "Epoch 63/75\n",
      "404/404 [==============================] - 0s 244us/sample - loss: 5.6713 - mean_squared_error: 5.6713 - mean_absolute_error: 1.6790 - val_loss: 17.6989 - val_mean_squared_error: 17.6989 - val_mean_absolute_error: 2.6701\n",
      "Epoch 64/75\n",
      "404/404 [==============================] - 0s 237us/sample - loss: 5.4606 - mean_squared_error: 5.4606 - mean_absolute_error: 1.6635 - val_loss: 19.2227 - val_mean_squared_error: 19.2227 - val_mean_absolute_error: 2.8534\n",
      "Epoch 65/75\n",
      "404/404 [==============================] - 0s 243us/sample - loss: 5.4350 - mean_squared_error: 5.4350 - mean_absolute_error: 1.6846 - val_loss: 17.6768 - val_mean_squared_error: 17.6768 - val_mean_absolute_error: 2.6877\n",
      "Epoch 66/75\n",
      "404/404 [==============================] - 0s 242us/sample - loss: 5.3629 - mean_squared_error: 5.3629 - mean_absolute_error: 1.6608 - val_loss: 17.2369 - val_mean_squared_error: 17.2369 - val_mean_absolute_error: 2.6636\n",
      "Epoch 67/75\n",
      "404/404 [==============================] - 0s 233us/sample - loss: 5.3058 - mean_squared_error: 5.3058 - mean_absolute_error: 1.6376 - val_loss: 18.3109 - val_mean_squared_error: 18.3109 - val_mean_absolute_error: 2.7706\n",
      "Epoch 68/75\n",
      "404/404 [==============================] - 0s 255us/sample - loss: 5.5254 - mean_squared_error: 5.5254 - mean_absolute_error: 1.6858 - val_loss: 18.3951 - val_mean_squared_error: 18.3951 - val_mean_absolute_error: 2.7909\n",
      "Epoch 69/75\n",
      "404/404 [==============================] - 0s 252us/sample - loss: 5.1248 - mean_squared_error: 5.1248 - mean_absolute_error: 1.6260 - val_loss: 16.3682 - val_mean_squared_error: 16.3682 - val_mean_absolute_error: 2.5590\n",
      "Epoch 70/75\n",
      "404/404 [==============================] - 0s 233us/sample - loss: 5.5743 - mean_squared_error: 5.5743 - mean_absolute_error: 1.7067 - val_loss: 16.8161 - val_mean_squared_error: 16.8161 - val_mean_absolute_error: 2.6320\n",
      "Epoch 71/75\n",
      "404/404 [==============================] - 0s 242us/sample - loss: 5.4290 - mean_squared_error: 5.4290 - mean_absolute_error: 1.6652 - val_loss: 17.5393 - val_mean_squared_error: 17.5393 - val_mean_absolute_error: 2.7814\n",
      "Epoch 72/75\n",
      "404/404 [==============================] - 0s 241us/sample - loss: 5.4200 - mean_squared_error: 5.4200 - mean_absolute_error: 1.6872 - val_loss: 16.7771 - val_mean_squared_error: 16.7771 - val_mean_absolute_error: 2.6375\n",
      "Epoch 73/75\n",
      "404/404 [==============================] - 0s 242us/sample - loss: 5.2997 - mean_squared_error: 5.2997 - mean_absolute_error: 1.6303 - val_loss: 15.3907 - val_mean_squared_error: 15.3907 - val_mean_absolute_error: 2.5635\n",
      "Epoch 74/75\n",
      "404/404 [==============================] - 0s 244us/sample - loss: 5.3669 - mean_squared_error: 5.3669 - mean_absolute_error: 1.6850 - val_loss: 16.6443 - val_mean_squared_error: 16.6443 - val_mean_absolute_error: 2.6108\n",
      "Epoch 75/75\n",
      "404/404 [==============================] - 0s 240us/sample - loss: 5.1040 - mean_squared_error: 5.1040 - mean_absolute_error: 1.6526 - val_loss: 15.6395 - val_mean_squared_error: 15.6395 - val_mean_absolute_error: 2.6175\n"
     ]
    },
    {
     "name": "stderr",
     "output_type": "stream",
     "text": [
      "=======\n",
      ">>>>>>> remote <removed>\n",
      "<<<<<<< local <modified: text/plain>\n"
     ]
    },
    {
     "data": {
      "text/plain": [
       "<tensorflow.python.keras.callbacks.History at 0x7ff17571b0b8>"
      ]
     },
     "execution_count": 3,
     "metadata": {},
     "output_type": "execute_result"
    },
    {
     "name": "stderr",
     "output_type": "stream",
     "text": [
      "=======\n",
      ">>>>>>> remote <removed>\n"
     ]
    }
   ],
   "source": [
    "from tensorflow import keras\n",
    "from tensorflow.keras.models import Sequential\n",
    "from tensorflow.keras.layers import Dense\n",
    "\n",
    "# Important Hyperparameters\n",
    "inputs = x_train.shape[1]\n",
    "epochs = 75\n",
    "batch_size = 10\n",
    "\n",
    "\n",
    "# Create Model\n",
    "model = Sequential()\n",
    "model.add(Dense(64, activation='relu', input_shape=(inputs,)))\n",
    "model.add(Dense(64, activation='relu'))\n",
    "model.add(Dense(1))\n",
    "\n",
    "# Compile Model\n",
    "model.compile(optimizer='adam', loss='mse', metrics=['mse', 'mae'])\n",
    "\n",
    "# Fit Model\n",
    "model.fit(x_train, y_train, \n",
    "          validation_data=(x_test,y_test), \n",
    "          epochs=epochs, \n",
    "          batch_size=batch_size\n",
    "         )"
   ]
  },
  {
   "cell_type": "markdown",
   "metadata": {
    "colab_type": "text",
    "id": "sYJ8t_ezHP4W"
   },
   "source": [
    "### Hyperparameter Tuning Approaches:\n",
    "\n",
    "#### 1) Babysitting AKA \"Grad Student Descent\".\n",
    "\n",
    "If you fiddled with any hyperparameters yesterday, this is basically what you did. This approach is 100% manual and is pretty common among researchers where finding that 1 exact specification that jumps your model to a level of accuracy never seen before is the difference between publishing and not publishing a paper. Of course the professors don't do this themselves, that's grunt work. This is also known as the fiddle with hyperparameters until you run out of time method.\n",
    "\n",
    "#### 2) Grid Search\n",
    "\n",
    "Grid Search is the Grad Student galaxy brain realization of: why don't I just specify all the experiments I want to run and let the computer try every possible combination of them while I go and grab lunch. This has a specific downside in that if I specify 5 hyperparameters with 5 options each then I've just created 5^5 combinations of hyperparameters to check. Which means that I have to train 3125 different versions of my model Then if I use 5-fold Cross Validation on that then my model has to run 15,525 times. This is the brute-force method of hyperparameter tuning, but it can be very profitable if done wisely. \n",
    "\n",
    "When using Grid Search here's what I suggest: don't use it to test combinations of different hyperparameters, only use it to test different specifications of **a single** hyperparameter. It's rare that combinations between different hyperparameters lead to big performance gains. You'll get 90-95% of the way there if you just Grid Search one parameter and take the best result, then retain that best result while you test another, and then retain the best specification from that while you train another. This at least makes the situation much more manageable and leads to pretty good results. \n",
    "\n",
    "#### 3) Random Search\n",
    "\n",
    "Do Grid Search for a couple of hours and you'll say to yourself - \"There's got to be a better way.\" Enter Random Search. For Random search you specify a hyperparameter space and it picks specifications from that randomly, tries them out, gives you the best results and says - That's going to have to be good enough, go home and spend time with your family. \n",
    "\n",
    "Grid Search treats every parameter as if it was equally important, but this just isn't the case, some are known to move the needle a lot more than others (we'll talk about that in a minute). Random Search allows searching to be specified along the most important parameter and experiments less along the dimensions of less important hyperparameters. The downside of Random search is that it won't find the absolute best hyperparameters, but it is much less costly to perform than Grid Search. \n",
    "\n",
    "#### 4) Bayesian Methods\n",
    "\n",
    "One thing that can make more manual methods like babysitting and gridsearch effective is that as the experimenter sees results he can then make updates to his future searches taking into account the results of past specifications. If only we could hyperparameter tune our hyperparameter tuning. Well, we kind of can. Enter Bayesian Optimization. Neural Networks are like an optimization problem within an optimization problem, and Bayesian Optimization is a search strategy that tries to take into account the results of past searches in order to improve future ones. This is the most advanced method but can be a little bit tricky to implement, but there are some early steps with `hyperas` which is Bayesian optimization wrapper for `keras`. "
   ]
  },
  {
   "cell_type": "markdown",
   "metadata": {
    "colab_type": "text",
    "id": "HfQ7D043OMMn"
   },
   "source": [
    "## What Hyperparameters are there to test?\n",
    "\n",
    "- batch_size\n",
    "- training epochs\n",
    "- optimization algorithms\n",
    "- learning rate\n",
    "- momentum\n",
    "- activation functions\n",
    "- dropout regularization\n",
    "- number of neurons in the hidden layer\n",
    "\n",
    "There are more, but these are the most important."
   ]
  },
  {
   "cell_type": "markdown",
   "metadata": {},
   "source": [
    "## Follow Along"
   ]
  },
  {
   "cell_type": "markdown",
   "metadata": {
    "colab_type": "text",
    "id": "Mri5-kXzVKAa"
   },
   "source": [
    "## Batch Size\n",
    "\n",
    "Batch size determines how many observations the model is shown before it calculates loss/error and updates the model weights via gradient descent. You're looking for a sweet spot here where you're showing it enough observations that you have enough information to updates the weights, but not such a large batch size that you don't get a lot of weight update iterations performed in a given epoch. Feed-forward Neural Networks aren't as sensitive to bach_size as other networks, but it is still an important hyperparameter to tune. Smaller batch sizes will also take longer to train. "
   ]
  },
  {
   "cell_type": "code",
   "execution_count": 2,
   "metadata": {},
   "outputs": [
    {
     "data": {
      "text/html": [
       "<div>\n",
       "<style scoped>\n",
       "    .dataframe tbody tr th:only-of-type {\n",
       "        vertical-align: middle;\n",
       "    }\n",
       "\n",
       "    .dataframe tbody tr th {\n",
       "        vertical-align: top;\n",
       "    }\n",
       "\n",
       "    .dataframe thead th {\n",
       "        text-align: right;\n",
       "    }\n",
       "</style>\n",
       "<table border=\"1\" class=\"dataframe\">\n",
       "  <thead>\n",
       "    <tr style=\"text-align: right;\">\n",
       "      <th></th>\n",
       "      <th>6</th>\n",
       "      <th>148</th>\n",
       "      <th>72</th>\n",
       "      <th>35</th>\n",
       "      <th>0</th>\n",
       "      <th>33.6</th>\n",
       "      <th>0.627</th>\n",
       "      <th>50</th>\n",
       "      <th>1</th>\n",
       "    </tr>\n",
       "  </thead>\n",
       "  <tbody>\n",
       "    <tr>\n",
       "      <th>0</th>\n",
       "      <td>1</td>\n",
       "      <td>85</td>\n",
       "      <td>66</td>\n",
       "      <td>29</td>\n",
       "      <td>0</td>\n",
       "      <td>26.6</td>\n",
       "      <td>0.351</td>\n",
       "      <td>31</td>\n",
       "      <td>0</td>\n",
       "    </tr>\n",
       "    <tr>\n",
       "      <th>1</th>\n",
       "      <td>8</td>\n",
       "      <td>183</td>\n",
       "      <td>64</td>\n",
       "      <td>0</td>\n",
       "      <td>0</td>\n",
       "      <td>23.3</td>\n",
       "      <td>0.672</td>\n",
       "      <td>32</td>\n",
       "      <td>1</td>\n",
       "    </tr>\n",
       "    <tr>\n",
       "      <th>2</th>\n",
       "      <td>1</td>\n",
       "      <td>89</td>\n",
       "      <td>66</td>\n",
       "      <td>23</td>\n",
       "      <td>94</td>\n",
       "      <td>28.1</td>\n",
       "      <td>0.167</td>\n",
       "      <td>21</td>\n",
       "      <td>0</td>\n",
       "    </tr>\n",
       "    <tr>\n",
       "      <th>3</th>\n",
       "      <td>0</td>\n",
       "      <td>137</td>\n",
       "      <td>40</td>\n",
       "      <td>35</td>\n",
       "      <td>168</td>\n",
       "      <td>43.1</td>\n",
       "      <td>2.288</td>\n",
       "      <td>33</td>\n",
       "      <td>1</td>\n",
       "    </tr>\n",
       "    <tr>\n",
       "      <th>4</th>\n",
       "      <td>5</td>\n",
       "      <td>116</td>\n",
       "      <td>74</td>\n",
       "      <td>0</td>\n",
       "      <td>0</td>\n",
       "      <td>25.6</td>\n",
       "      <td>0.201</td>\n",
       "      <td>30</td>\n",
       "      <td>0</td>\n",
       "    </tr>\n",
       "  </tbody>\n",
       "</table>\n",
       "</div>"
      ],
      "text/plain": [
       "   6  148  72  35    0  33.6  0.627  50  1\n",
       "0  1   85  66  29    0  26.6  0.351  31  0\n",
       "1  8  183  64   0    0  23.3  0.672  32  1\n",
       "2  1   89  66  23   94  28.1  0.167  21  0\n",
       "3  0  137  40  35  168  43.1  2.288  33  1\n",
       "4  5  116  74   0    0  25.6  0.201  30  0"
      ]
     },
     "execution_count": 2,
     "metadata": {},
     "output_type": "execute_result"
    }
   ],
   "source": [
    "import pandas as pd\n",
    "url =\"https://raw.githubusercontent.com/jbrownlee/Datasets/master/pima-indians-diabetes.data.csv\"\n",
    "\n",
    "df_test = pd.read_csv(url)\n",
    "df_test.head()"
   ]
  },
  {
   "cell_type": "code",
   "execution_count": 3,
   "metadata": {},
   "outputs": [
    {
     "data": {
      "text/plain": [
       "(767, 9)"
      ]
     },
     "execution_count": 3,
     "metadata": {},
     "output_type": "execute_result"
    }
   ],
   "source": [
    "df_test.shape"
   ]
  },
  {
   "cell_type": "code",
   "execution_count": 5,
   "metadata": {
    "colab": {
     "base_uri": "https://localhost:8080/",
     "height": 13561
    },
    "colab_type": "code",
    "id": "2smXfriNAGn7",
    "outputId": "ae996575-78e2-43fb-9dbe-5d44aaf0b430"
   },
   "outputs": [
    {
     "name": "stdout",
     "output_type": "stream",
     "text": [
      "WARNING:tensorflow:From /home/ec2-user/anaconda3/envs/tensorflow_p36/lib/python3.6/site-packages/tensorflow/python/ops/nn_impl.py:180: add_dispatch_support.<locals>.wrapper (from tensorflow.python.ops.array_ops) is deprecated and will be removed in a future version.\n",
      "Instructions for updating:\n",
      "Use tf.where in 2.0, which has the same broadcast rule as np.where\n"
     ]
    },
    {
     "name": "stderr",
     "output_type": "stream",
     "text": [
      "/home/ec2-user/anaconda3/envs/tensorflow_p36/lib/python3.6/site-packages/sklearn/model_selection/_split.py:1978: FutureWarning: The default value of cv will change from 3 to 5 in version 0.22. Specify it explicitly to silence this warning.\n",
      "  warnings.warn(CV_WARNING, FutureWarning)\n"
     ]
    },
    {
     "name": "stdout",
     "output_type": "stream",
     "text": [
      "Best: 0.65625 using {'batch_size': 20, 'epochs': 20}\n",
      "Means: 0.65234375, Stdev: 0.016876928902103804 with: {'batch_size': 10, 'epochs': 20}\n",
      "Means: 0.65625, Stdev: 0.035516098169234 with: {'batch_size': 20, 'epochs': 20}\n",
      "Means: 0.5859375, Stdev: 0.07473096277230075 with: {'batch_size': 40, 'epochs': 20}\n",
      "Means: 0.5143229166666666, Stdev: 0.06020639594633798 with: {'batch_size': 60, 'epochs': 20}\n",
      "Means: 0.5950520833333334, Stdev: 0.0769001201053823 with: {'batch_size': 80, 'epochs': 20}\n",
      "Means: 0.6158854166666666, Stdev: 0.06037512041338349 with: {'batch_size': 100, 'epochs': 20}\n"
     ]
    }
   ],
   "source": [
    "import numpy\n",
    "import pandas as pd\n",
    "from sklearn.model_selection import GridSearchCV\n",
    "from tensorflow.keras.models import Sequential\n",
    "from tensorflow.keras.layers import Dense\n",
    "from tensorflow.keras.wrappers.scikit_learn import KerasClassifier\n",
    "\n",
    "# fix random seed for reproducibility\n",
    "seed = 7\n",
    "numpy.random.seed(seed)\n",
    "\n",
    "# load dataset\n",
    "url =\"https://raw.githubusercontent.com/jbrownlee/Datasets/master/pima-indians-diabetes.data.csv\"\n",
    "\n",
    "dataset = pd.read_csv(url, header=None).values\n",
    "\n",
    "# split into input (X) and output (Y) variables\n",
    "X = dataset[:,0:8]\n",
    "Y = dataset[:,8]\n",
    "\n",
    "# Function to create model, required for KerasClassifier\n",
    "def create_model():\n",
    "    # create model\n",
    "    model = Sequential()\n",
    "    model.add(Dense(12, input_dim=8, activation='relu'))\n",
    "    model.add(Dense(1, activation='sigmoid'))\n",
    "    # Compile model\n",
    "    model.compile(loss='binary_crossentropy', optimizer='adam', metrics=['accuracy'])\n",
    "    return model\n",
    "\n",
    "# create model\n",
    "model = KerasClassifier(build_fn=create_model, verbose=0)\n",
    "\n",
    "# define the grid search parameters\n",
    "# batch_size = [10, 20, 40, 60, 80, 100]\n",
    "# param_grid = dict(batch_size=batch_size, epochs=epochs)\n",
    "\n",
    "# define the grid search parameters\n",
    "param_grid = {'batch_size': [10, 20, 40, 60, 80, 100],\n",
    "              'epochs': [20]}\n",
    "\n",
    "# Create Grid Search\n",
    "grid = GridSearchCV(estimator=model, param_grid=param_grid, n_jobs=1)\n",
    "grid_result = grid.fit(X, Y)\n",
    "\n",
    "# Report Results\n",
    "print(f\"Best: {grid_result.best_score_} using {grid_result.best_params_}\")\n",
    "means = grid_result.cv_results_['mean_test_score']\n",
    "stds = grid_result.cv_results_['std_test_score']\n",
    "params = grid_result.cv_results_['params']\n",
    "for mean, stdev, param in zip(means, stds, params):\n",
    "    print(f\"Means: {mean}, Stdev: {stdev} with: {param}\") "
   ]
  },
  {
   "cell_type": "markdown",
   "metadata": {
    "colab_type": "text",
    "id": "pmABfjlvXbqi"
   },
   "source": [
    "## Epochs\n",
    "\n",
    "The number of training epochs has a large and direct affect on the accuracy, However, more epochs is almost always goign to better than less epochs. This means that if you tune this parameter at the beginning and try and maintain the same value all throughout your training, you're going to be waiting a long time for each iteration of GridSearch. I suggest picking a fixed moderat # of epochs all throughout your training and then Grid Searching this parameter at the very end. "
   ]
  },
  {
   "cell_type": "code",
   "execution_count": 6,
   "metadata": {
    "colab": {
     "base_uri": "https://localhost:8080/",
     "height": 26329
    },
    "colab_type": "code",
    "id": "bAmxP3N7TmFh",
    "outputId": "3ddb08c4-51ac-4eaa-ff39-143397024544"
   },
   "outputs": [
    {
     "name": "stderr",
     "output_type": "stream",
     "text": [
      "/home/ec2-user/anaconda3/envs/tensorflow_p36/lib/python3.6/site-packages/sklearn/model_selection/_split.py:1978: FutureWarning: The default value of cv will change from 3 to 5 in version 0.22. Specify it explicitly to silence this warning.\n",
      "  warnings.warn(CV_WARNING, FutureWarning)\n"
     ]
    },
    {
     "name": "stdout",
     "output_type": "stream",
     "text": [
      "Best: 0.734375 using {'batch_size': 20, 'epochs': 200}\n",
      "Means: 0.6640625, Stdev: 0.03141233875472609 with: {'batch_size': 20, 'epochs': 20}\n",
      "Means: 0.66796875, Stdev: 0.00318943976924893 with: {'batch_size': 20, 'epochs': 40}\n",
      "Means: 0.64453125, Stdev: 0.025315393353155705 with: {'batch_size': 20, 'epochs': 60}\n",
      "Means: 0.734375, Stdev: 0.00637887953849786 with: {'batch_size': 20, 'epochs': 200}\n"
     ]
    }
   ],
   "source": [
    "# define the grid search parameters\n",
    "param_grid = {'batch_size': [20],\n",
    "              'epochs': [20, 40, 60,200]}\n",
    "\n",
    "# Create Grid Search\n",
    "grid = GridSearchCV(estimator=model, param_grid=param_grid, n_jobs=1)\n",
    "grid_result = grid.fit(X, Y)\n",
    "\n",
    "# Report Results\n",
    "print(f\"Best: {grid_result.best_score_} using {grid_result.best_params_}\")\n",
    "means = grid_result.cv_results_['mean_test_score']\n",
    "stds = grid_result.cv_results_['std_test_score']\n",
    "params = grid_result.cv_results_['params']\n",
    "for mean, stdev, param in zip(means, stds, params):\n",
    "    print(f\"Means: {mean}, Stdev: {stdev} with: {param}\")"
   ]
  },
  {
   "cell_type": "markdown",
   "metadata": {
    "colab_type": "text",
    "id": "EKcuY6OiaLfz"
   },
   "source": [
    "## Optimizer\n",
    "\n",
    "Remember that there's a different optimizers [optimizers](https://keras.io/optimizers/). At some point, take some time to read up on them a little bit. \"adam\" usually gives the best results. The thing to know about choosing an optimizer is that different optimizers have different hyperparameters like learning rate, momentum, etc. So based on the optimizer you choose you might also have to tune the learning rate and momentum of those optimizers after that. "
   ]
  },
  {
   "cell_type": "markdown",
   "metadata": {
    "colab_type": "text",
    "id": "DG3wq5iOaLig"
   },
   "source": [
    "## Learning Rate\n",
    "\n",
    "Remember that the Learning Rate is a hyperparameter that is specific to your gradient-descent based optimizer selection. A learning rate that is too high will cause divergent behavior, but a Learning Rate that is too low will fail to converge, again, you're looking for the sweet spot. I would start out tuning learning rates by orders of magnitude: [.001, .01, .1, .2, .3, .5] etc. I wouldn't go above .5, but you can try it and see what the behavior is like. \n",
    "\n",
    "Once you have narrowed it down, make the window even smaller and try it again. If after running the above specification your model reports that .1 is the best optimizer, then you should probably try things like [.05, .08, .1, .12, .15] to try and narrow it down. \n",
    "\n",
    "It can also be good to tune the number of epochs in combination with the learning rate since the number of iterations that you allow the learning rate to reach the minimum can determine if you have let it run long enough to converge to the minimum. "
   ]
  },
  {
   "cell_type": "markdown",
   "metadata": {
    "colab_type": "text",
    "id": "gNTBUWd1aLlA"
   },
   "source": [
    "## Momentum\n",
    "\n",
    "Momentum is a hyperparameter that is more commonly associated with Stochastic Gradient Descent. SGD is a common optimizer because it's what people understand and know, but I doubt it will get you the best results, you can try hyperparameter tuning its attributes and see if you can beat the performance from adam. Momentum is a property that decides the willingness of an optimizer to overshoot the minimum. Imagine a ball rolling down one side of a bowl and then up the opposite side a little bit before settling back to the bottom. The purpose of momentum is to try and escale local minima."
   ]
  },
  {
   "cell_type": "markdown",
   "metadata": {
    "colab_type": "text",
    "id": "xnEG-bCJaLnZ"
   },
   "source": [
    "## Activation Functions\n",
    "\n",
    "We've talked about this a little bit, typically you'l want to use ReLU for hidden layers and either Sigmoid, or Softmax for output layers of binary and multi-class classification implementations respectively, but try other activation functions and see if you can get any better results with sigmoid or tanh or something. There are a lot of activation functions that we haven't really talked about. Maybe you'll get good results with them. Maybe you won't. :) <https://keras.io/activations/>"
   ]
  },
  {
   "cell_type": "markdown",
   "metadata": {
    "colab_type": "text",
    "id": "oul9sPq-dU-h"
   },
   "source": [
    "## Network Weight Initialization\n",
    "\n",
    "You saw how big of an effect the way that we initialize our network's weights can have on our results. There are **a lot** of what are called initialization modes. I don't understand all of them, but they can have a big affect on your model's initial accuracy. Your model will get further with less epochs if you initialize it with weights that are well suited to the problem you're trying to solve.\n",
    "\n",
    "`init_mode = ['uniform', 'lecun_uniform', 'normal', 'zero', 'glorot_normal', 'glorot_uniform', 'he_normal', 'he_uniform']`"
   ]
  },
  {
   "cell_type": "markdown",
   "metadata": {
    "colab_type": "text",
    "id": "bqtEuxeQaLqE"
   },
   "source": [
    "## Dropout Regularization and the Weight Constraint\n",
    "\n",
    "the Dropout Regularization value is a percentage of neurons that you want to be randomly deactivated during training. The weight constraint is a second regularization parameter that works in tandem with dropout regularization. You should tune these two values at the same time. \n",
    "\n",
    "Using dropout on visible vs hidden layers might have a different effect. Using dropout on hidden layers might not have any effect while using dropout on hidden layers might have a substantial effect. You don't necessarily need to turn use dropout unless you see that your model has overfitting and generalizability problems."
   ]
  },
  {
   "cell_type": "markdown",
   "metadata": {
    "colab_type": "text",
    "id": "P2c5Cv6oaLtO"
   },
   "source": [
    "## Neurons in Hidden Layer \n",
    "\n",
    "Remember that when we only had a single perceptron our model was only able to fit to linearly separable data, but as we have added layers and nodes to those layers our network has become a powerhouse of fitting nonlinearity in data. The larger the network and the more nodes generally the stronger the network's capacity to fit nonlinear patterns in data. The more nodes and layers the longer it will take to train a network, and higher the probability of overfitting. The larger your network gets the more you'll need dropout regularization or other regularization techniques to keep it in check. \n",
    "\n",
    "Typically depth (more layers) is more important than width (more nodes) for neural networks. This is part of why Deep Learning is so highly touted. Certain deep learning architectures have truly been huge breakthroughs for certain machine learning tasks. \n",
    "\n",
    "You might borrow ideas from other network architectures. For example if I was doing image recognition and I wasn't taking cues from state of the art architectures like resnet, alexnet, googlenet, etc. Then I'm probably going to have to do a lot more experimentation on my own before I find something that works.\n",
    "\n",
    "There are some heuristics, but I am highly skeptical of them. I think you're better off experimenting on your own and forming your own intuition for these kinds of problems. \n",
    "\n",
    "- https://machinelearningmastery.com/how-to-configure-the-number-of-layers-and-nodes-in-a-neural-network/"
   ]
  },
  {
   "cell_type": "markdown",
   "metadata": {},
   "source": [
    "## Challenge\n",
    "You will be expected to tune several hyperparameters in today's module project. "
   ]
  },
  {
   "cell_type": "markdown",
   "metadata": {},
   "source": [
    "# Experiment Tracking Framework (Learn)\n",
    "<a id=\"p2\"></a>"
   ]
  },
  {
   "cell_type": "markdown",
   "metadata": {},
   "source": [
    "## Overview\n",
    "\n",
    "You will notice quickly that managing the results of all the experiments you are running becomes challenging. Which set of parameters did the best? Are my results today different than my results yesterday? Although we use Ipython Notebooks to work, the format is not well suited to logging experimental results. Enter experiment tracking frameworks like [Comet.ml](https://comet.ml) and [Weights and Biases](https://wandb.ai/).\n",
    "\n",
    "Those tools will help you track your experiments, store the results, and the code associated with those experiments. Experimental results can also be readily visualized to see changes in performance across any metric you care about. Data is sent to the tool as each epoch is completed, so you can also see if your model is converging. Let's check out Weights & Biases today. "
   ]
  },
  {
   "cell_type": "markdown",
   "metadata": {},
   "source": [
    "## Follow Along\n",
    "\n",
    "Make sure you login into `wandb` in the terminal before running the next cell. "
   ]
  },
  {
   "cell_type": "code",
   "execution_count": 9,
   "metadata": {},
   "outputs": [
    {
     "name": "stdout",
     "output_type": "stream",
     "text": [
      "\u001b[34m\u001b[1mwandb\u001b[0m: Appending key for api.wandb.ai to your netrc file: /home/ec2-user/.netrc\n",
      "\u001b[32mSuccessfully logged in to Weights & Biases!\u001b[0m\n"
     ]
    }
   ],
   "source": [
    "!wandb login 358ce2801e640a67df828839c179d15370f0f4aa"
   ]
  },
  {
   "cell_type": "code",
   "execution_count": 10,
   "metadata": {},
   "outputs": [],
   "source": [
    "import wandb\n",
    "from wandb.keras import WandbCallback"
   ]
  },
  {
   "cell_type": "code",
   "execution_count": 12,
   "metadata": {
    "colab": {
     "base_uri": "https://localhost:8080/",
     "height": 1750
    },
    "colab_type": "code",
    "collapsed": true,
    "id": "GMXVfmzXp1Oo",
    "jupyter": {
     "outputs_hidden": true
    },
    "outputId": "b05e251e-508f-46e6-865b-f869ae2a5dc4"
   },
   "outputs": [
    {
     "data": {
      "text/html": [
       "\n",
       "                Logging results to <a href=\"https://wandb.com\" target=\"_blank\">Weights & Biases</a> <a href=\"https://docs.wandb.com/integrations/jupyter.html\" target=\"_blank\">(Documentation)</a>.<br/>\n",
       "                Project page: <a href=\"https://app.wandb.ai/ds8/inclass\" target=\"_blank\">https://app.wandb.ai/ds8/inclass</a><br/>\n",
       "                Run page: <a href=\"https://app.wandb.ai/ds8/inclass/runs/2sea7isa\" target=\"_blank\">https://app.wandb.ai/ds8/inclass/runs/2sea7isa</a><br/>\n",
       "            "
      ],
      "text/plain": [
       "<IPython.core.display.HTML object>"
      ]
     },
     "metadata": {},
     "output_type": "display_data"
    },
    {
     "name": "stderr",
     "output_type": "stream",
     "text": [
      "Failed to query for notebook name, you can set it manually with the WANDB_NOTEBOOK_NAME environment variable\n",
      "Error generating diff: Command '['git', 'diff', '--submodule=diff', 'HEAD']' timed out after 5 seconds\n"
     ]
    },
    {
     "name": "stdout",
     "output_type": "stream",
     "text": [
      "Train on 270 samples, validate on 134 samples\n",
      "Epoch 1/50\n",
      "270/270 [==============================] - 3s 11ms/sample - loss: 1328.6088 - mean_squared_error: 1328.6088 - mean_absolute_error: 26.4036 - val_loss: 370.0590 - val_mean_squared_error: 370.0590 - val_mean_absolute_error: 16.4344\n",
      "Epoch 2/50\n",
      "270/270 [==============================] - 0s 532us/sample - loss: 102.5527 - mean_squared_error: 102.5527 - mean_absolute_error: 7.8384 - val_loss: 90.8296 - val_mean_squared_error: 90.8296 - val_mean_absolute_error: 6.3178\n",
      "Epoch 3/50\n",
      "270/270 [==============================] - 0s 487us/sample - loss: 61.3724 - mean_squared_error: 61.3724 - mean_absolute_error: 5.7624 - val_loss: 87.7750 - val_mean_squared_error: 87.7750 - val_mean_absolute_error: 6.2290\n",
      "Epoch 4/50\n",
      "270/270 [==============================] - 0s 467us/sample - loss: 57.2530 - mean_squared_error: 57.2530 - mean_absolute_error: 5.2404 - val_loss: 86.4334 - val_mean_squared_error: 86.4334 - val_mean_absolute_error: 6.1641\n",
      "Epoch 5/50\n",
      "270/270 [==============================] - 0s 457us/sample - loss: 53.4836 - mean_squared_error: 53.4836 - mean_absolute_error: 5.1038 - val_loss: 85.3275 - val_mean_squared_error: 85.3275 - val_mean_absolute_error: 6.2776\n",
      "Epoch 6/50\n",
      "270/270 [==============================] - 0s 378us/sample - loss: 52.5480 - mean_squared_error: 52.5480 - mean_absolute_error: 5.1496 - val_loss: 86.4637 - val_mean_squared_error: 86.4638 - val_mean_absolute_error: 5.9725\n",
      "Epoch 7/50\n",
      "270/270 [==============================] - 0s 470us/sample - loss: 53.3906 - mean_squared_error: 53.3906 - mean_absolute_error: 5.0274 - val_loss: 82.7502 - val_mean_squared_error: 82.7502 - val_mean_absolute_error: 6.1518\n",
      "Epoch 8/50\n",
      "270/270 [==============================] - 0s 370us/sample - loss: 53.5177 - mean_squared_error: 53.5177 - mean_absolute_error: 5.2710 - val_loss: 83.1599 - val_mean_squared_error: 83.1599 - val_mean_absolute_error: 6.9007\n",
      "Epoch 9/50\n",
      "270/270 [==============================] - 0s 369us/sample - loss: 52.1705 - mean_squared_error: 52.1705 - mean_absolute_error: 5.1877 - val_loss: 90.9740 - val_mean_squared_error: 90.9740 - val_mean_absolute_error: 5.9221\n",
      "Epoch 10/50\n",
      "270/270 [==============================] - 0s 474us/sample - loss: 51.4873 - mean_squared_error: 51.4873 - mean_absolute_error: 4.9151 - val_loss: 81.4456 - val_mean_squared_error: 81.4456 - val_mean_absolute_error: 5.9477\n",
      "Epoch 11/50\n",
      "270/270 [==============================] - 0s 402us/sample - loss: 47.7361 - mean_squared_error: 47.7361 - mean_absolute_error: 4.7558 - val_loss: 89.3599 - val_mean_squared_error: 89.3599 - val_mean_absolute_error: 5.8208\n",
      "Epoch 12/50\n",
      "270/270 [==============================] - 0s 505us/sample - loss: 46.6366 - mean_squared_error: 46.6366 - mean_absolute_error: 4.6828 - val_loss: 75.6535 - val_mean_squared_error: 75.6535 - val_mean_absolute_error: 5.9640\n",
      "Epoch 13/50\n",
      "270/270 [==============================] - 0s 378us/sample - loss: 46.5446 - mean_squared_error: 46.5446 - mean_absolute_error: 4.7095 - val_loss: 77.5589 - val_mean_squared_error: 77.5589 - val_mean_absolute_error: 6.4373\n",
      "Epoch 14/50\n",
      "270/270 [==============================] - 0s 383us/sample - loss: 45.5294 - mean_squared_error: 45.5294 - mean_absolute_error: 4.6966 - val_loss: 87.9993 - val_mean_squared_error: 87.9993 - val_mean_absolute_error: 5.8523\n",
      "Epoch 15/50\n",
      "270/270 [==============================] - 0s 552us/sample - loss: 44.4088 - mean_squared_error: 44.4088 - mean_absolute_error: 4.6315 - val_loss: 75.5214 - val_mean_squared_error: 75.5214 - val_mean_absolute_error: 5.4600\n",
      "Epoch 16/50\n",
      "270/270 [==============================] - 0s 473us/sample - loss: 43.3636 - mean_squared_error: 43.3636 - mean_absolute_error: 4.6369 - val_loss: 69.7674 - val_mean_squared_error: 69.7674 - val_mean_absolute_error: 6.1065\n",
      "Epoch 17/50\n",
      "270/270 [==============================] - 0s 473us/sample - loss: 45.0158 - mean_squared_error: 45.0158 - mean_absolute_error: 4.5182 - val_loss: 68.6673 - val_mean_squared_error: 68.6673 - val_mean_absolute_error: 5.4719\n",
      "Epoch 18/50\n",
      "270/270 [==============================] - 0s 463us/sample - loss: 45.3988 - mean_squared_error: 45.3988 - mean_absolute_error: 4.7364 - val_loss: 68.2823 - val_mean_squared_error: 68.2822 - val_mean_absolute_error: 6.1705\n",
      "Epoch 19/50\n",
      "270/270 [==============================] - 0s 482us/sample - loss: 41.0776 - mean_squared_error: 41.0776 - mean_absolute_error: 4.5291 - val_loss: 68.1583 - val_mean_squared_error: 68.1584 - val_mean_absolute_error: 5.2825\n",
      "Epoch 20/50\n",
      "270/270 [==============================] - 0s 381us/sample - loss: 38.2064 - mean_squared_error: 38.2064 - mean_absolute_error: 4.3444 - val_loss: 70.0176 - val_mean_squared_error: 70.0176 - val_mean_absolute_error: 5.2479\n",
      "Epoch 21/50\n",
      "270/270 [==============================] - 0s 369us/sample - loss: 38.0884 - mean_squared_error: 38.0884 - mean_absolute_error: 4.1994 - val_loss: 68.4544 - val_mean_squared_error: 68.4544 - val_mean_absolute_error: 5.1490\n",
      "Epoch 22/50\n",
      "270/270 [==============================] - 0s 377us/sample - loss: 37.0386 - mean_squared_error: 37.0386 - mean_absolute_error: 4.2185 - val_loss: 69.3778 - val_mean_squared_error: 69.3777 - val_mean_absolute_error: 5.1745\n",
      "Epoch 23/50\n",
      "270/270 [==============================] - 0s 370us/sample - loss: 39.1323 - mean_squared_error: 39.1323 - mean_absolute_error: 4.4612 - val_loss: 74.6859 - val_mean_squared_error: 74.6859 - val_mean_absolute_error: 5.4935\n",
      "Epoch 24/50\n",
      "270/270 [==============================] - 0s 382us/sample - loss: 34.2938 - mean_squared_error: 34.2938 - mean_absolute_error: 4.0825 - val_loss: 69.2350 - val_mean_squared_error: 69.2350 - val_mean_absolute_error: 5.3005\n",
      "Epoch 25/50\n",
      "270/270 [==============================] - 0s 496us/sample - loss: 35.1957 - mean_squared_error: 35.1957 - mean_absolute_error: 4.1096 - val_loss: 63.7890 - val_mean_squared_error: 63.7890 - val_mean_absolute_error: 4.9718\n",
      "Epoch 26/50\n",
      "270/270 [==============================] - 0s 594us/sample - loss: 33.3638 - mean_squared_error: 33.3638 - mean_absolute_error: 3.9557 - val_loss: 61.0408 - val_mean_squared_error: 61.0408 - val_mean_absolute_error: 5.5536\n",
      "Epoch 27/50\n",
      "270/270 [==============================] - 0s 476us/sample - loss: 33.1086 - mean_squared_error: 33.1086 - mean_absolute_error: 4.0053 - val_loss: 54.4228 - val_mean_squared_error: 54.4228 - val_mean_absolute_error: 5.2945\n",
      "Epoch 28/50\n",
      "270/270 [==============================] - 0s 442us/sample - loss: 32.0045 - mean_squared_error: 32.0045 - mean_absolute_error: 4.1076 - val_loss: 67.0090 - val_mean_squared_error: 67.0090 - val_mean_absolute_error: 5.2906\n",
      "Epoch 29/50\n",
      "270/270 [==============================] - 0s 468us/sample - loss: 34.4705 - mean_squared_error: 34.4705 - mean_absolute_error: 4.1500 - val_loss: 70.1292 - val_mean_squared_error: 70.1292 - val_mean_absolute_error: 5.2419\n",
      "Epoch 30/50\n",
      "270/270 [==============================] - 0s 389us/sample - loss: 32.3025 - mean_squared_error: 32.3025 - mean_absolute_error: 3.9792 - val_loss: 65.0780 - val_mean_squared_error: 65.0780 - val_mean_absolute_error: 5.2061\n",
      "Epoch 31/50\n",
      "270/270 [==============================] - 0s 389us/sample - loss: 28.6848 - mean_squared_error: 28.6848 - mean_absolute_error: 3.7786 - val_loss: 55.3456 - val_mean_squared_error: 55.3456 - val_mean_absolute_error: 4.9213\n",
      "Epoch 32/50\n",
      "270/270 [==============================] - 0s 460us/sample - loss: 28.9066 - mean_squared_error: 28.9066 - mean_absolute_error: 3.8299 - val_loss: 49.6345 - val_mean_squared_error: 49.6345 - val_mean_absolute_error: 4.8794\n",
      "Epoch 33/50\n",
      "270/270 [==============================] - 0s 376us/sample - loss: 28.0593 - mean_squared_error: 28.0593 - mean_absolute_error: 3.7457 - val_loss: 55.3301 - val_mean_squared_error: 55.3301 - val_mean_absolute_error: 4.7449\n",
      "Epoch 34/50\n",
      "270/270 [==============================] - 0s 375us/sample - loss: 27.5253 - mean_squared_error: 27.5253 - mean_absolute_error: 3.6945 - val_loss: 53.3316 - val_mean_squared_error: 53.3316 - val_mean_absolute_error: 4.6199\n",
      "Epoch 35/50\n",
      "270/270 [==============================] - 0s 473us/sample - loss: 35.7033 - mean_squared_error: 35.7033 - mean_absolute_error: 4.3473 - val_loss: 52.2751 - val_mean_squared_error: 52.2751 - val_mean_absolute_error: 4.9838\n",
      "Epoch 36/50\n",
      "270/270 [==============================] - 0s 411us/sample - loss: 29.1826 - mean_squared_error: 29.1826 - mean_absolute_error: 3.8393 - val_loss: 54.8258 - val_mean_squared_error: 54.8258 - val_mean_absolute_error: 4.6189\n",
      "Epoch 37/50\n",
      "270/270 [==============================] - 0s 402us/sample - loss: 28.4008 - mean_squared_error: 28.4008 - mean_absolute_error: 3.8288 - val_loss: 49.9116 - val_mean_squared_error: 49.9116 - val_mean_absolute_error: 4.7548\n",
      "Epoch 38/50\n",
      "270/270 [==============================] - 0s 474us/sample - loss: 28.3658 - mean_squared_error: 28.3658 - mean_absolute_error: 3.8127 - val_loss: 49.5216 - val_mean_squared_error: 49.5217 - val_mean_absolute_error: 4.8278\n",
      "Epoch 39/50\n",
      "270/270 [==============================] - 0s 428us/sample - loss: 26.6783 - mean_squared_error: 26.6783 - mean_absolute_error: 3.6234 - val_loss: 49.7770 - val_mean_squared_error: 49.7770 - val_mean_absolute_error: 4.5087\n",
      "Epoch 40/50\n",
      "270/270 [==============================] - 0s 527us/sample - loss: 24.4383 - mean_squared_error: 24.4383 - mean_absolute_error: 3.5844 - val_loss: 45.7728 - val_mean_squared_error: 45.7728 - val_mean_absolute_error: 4.4579\n",
      "Epoch 41/50\n",
      "270/270 [==============================] - 0s 418us/sample - loss: 25.4434 - mean_squared_error: 25.4434 - mean_absolute_error: 3.7101 - val_loss: 61.0382 - val_mean_squared_error: 61.0382 - val_mean_absolute_error: 4.9659\n",
      "Epoch 42/50\n",
      "270/270 [==============================] - 0s 465us/sample - loss: 39.8620 - mean_squared_error: 39.8620 - mean_absolute_error: 4.6610 - val_loss: 44.6956 - val_mean_squared_error: 44.6956 - val_mean_absolute_error: 4.5782\n",
      "Epoch 43/50\n",
      "270/270 [==============================] - 0s 442us/sample - loss: 33.8728 - mean_squared_error: 33.8728 - mean_absolute_error: 4.3953 - val_loss: 52.9868 - val_mean_squared_error: 52.9868 - val_mean_absolute_error: 4.8852\n",
      "Epoch 44/50\n",
      "270/270 [==============================] - 0s 377us/sample - loss: 27.3265 - mean_squared_error: 27.3265 - mean_absolute_error: 3.6496 - val_loss: 46.2554 - val_mean_squared_error: 46.2554 - val_mean_absolute_error: 4.3813\n",
      "Epoch 45/50\n",
      "270/270 [==============================] - 0s 384us/sample - loss: 22.8252 - mean_squared_error: 22.8252 - mean_absolute_error: 3.4619 - val_loss: 49.5143 - val_mean_squared_error: 49.5143 - val_mean_absolute_error: 4.8165\n",
      "Epoch 46/50\n",
      "270/270 [==============================] - 0s 381us/sample - loss: 26.8680 - mean_squared_error: 26.8680 - mean_absolute_error: 3.7835 - val_loss: 71.8977 - val_mean_squared_error: 71.8977 - val_mean_absolute_error: 5.7221\n",
      "Epoch 47/50\n",
      "270/270 [==============================] - 0s 479us/sample - loss: 30.7961 - mean_squared_error: 30.7961 - mean_absolute_error: 4.0166 - val_loss: 43.1910 - val_mean_squared_error: 43.1910 - val_mean_absolute_error: 4.4602\n",
      "Epoch 48/50\n",
      "270/270 [==============================] - 0s 390us/sample - loss: 28.2981 - mean_squared_error: 28.2981 - mean_absolute_error: 3.9687 - val_loss: 51.1597 - val_mean_squared_error: 51.1597 - val_mean_absolute_error: 5.2481\n",
      "Epoch 49/50\n",
      "270/270 [==============================] - 0s 392us/sample - loss: 26.5189 - mean_squared_error: 26.5189 - mean_absolute_error: 3.8239 - val_loss: 56.3381 - val_mean_squared_error: 56.3381 - val_mean_absolute_error: 6.3157\n",
      "Epoch 50/50\n",
      "270/270 [==============================] - 0s 470us/sample - loss: 30.4529 - mean_squared_error: 30.4529 - mean_absolute_error: 4.2271 - val_loss: 48.8285 - val_mean_squared_error: 48.8285 - val_mean_absolute_error: 4.4955\n"
     ]
    },
    {
     "data": {
      "text/plain": [
       "<tensorflow.python.keras.callbacks.History at 0x7ff136832d68>"
      ]
     },
     "execution_count": 12,
     "metadata": {},
     "output_type": "execute_result"
    }
   ],
   "source": [
    "wandb.init(project=\"inclass\", entity=\"ds8\") #Initializes and Experiment\n",
    "\n",
    "# Important Hyperparameters\n",
    "X =  x_train\n",
    "y =  y_train\n",
    "\n",
    "inputs = X.shape[1]\n",
    "wandb.config.epochs = 50\n",
    "wandb.config.batch_size = 10\n",
    "\n",
    "# Create Model\n",
    "model = Sequential()\n",
    "model.add(Dense(64, activation='relu', input_shape=(inputs,)))\n",
    "model.add(Dense(64, activation='relu'))\n",
    "model.add(Dense(64, activation='relu'))\n",
    "model.add(Dense(1))\n",
    "# Compile Model\n",
    "model.compile(optimizer='adam', loss='mse', metrics=['mse', 'mae'])\n",
    "\n",
    "# Fit Model\n",
    "model.fit(X, y, \n",
    "          validation_split=0.33, \n",
    "          epochs=wandb.config.epochs, \n",
    "          batch_size=wandb.config.batch_size, \n",
    "          callbacks=[WandbCallback()]\n",
    "         )"
   ]
  },
  {
   "cell_type": "markdown",
   "metadata": {},
   "source": [
    "## Challenge\n",
    "\n",
    "You will be expected to use Weights & Biases to try to tune your model during your module assignment today. "
   ]
  },
  {
   "cell_type": "markdown",
   "metadata": {},
   "source": [
    "# Hyperparameters with RandomSearchCV (Learn)"
   ]
  },
  {
   "cell_type": "markdown",
   "metadata": {},
   "source": [
    "## Overview\n",
    "\n",
    "Basically `GridSearchCV` takes forever. You'll want to adopt a slightly more sophiscated strategy."
   ]
  },
  {
   "cell_type": "markdown",
   "metadata": {},
   "source": [
    "## Follow Along"
   ]
  },
  {
   "cell_type": "code",
   "execution_count": 13,
   "metadata": {},
   "outputs": [],
   "source": [
    "sweep_config = {\n",
    "    'method': 'random',\n",
    "    'parameters': {\n",
    "        'learning_rate': {'distribution': 'normal'},\n",
    "        'epochs': {'distribution': 'uniform',\n",
    "                    'min': 100,\n",
    "                    'max': 1000},\n",
    "        'batch_size': {'distribution': 'uniform',\n",
    "            'min': 10,\n",
    "            'max': 400}\n",
    "    }\n",
    "}"
   ]
  },
  {
   "cell_type": "code",
   "execution_count": 14,
   "metadata": {},
   "outputs": [
    {
     "name": "stdout",
     "output_type": "stream",
     "text": [
      "Create sweep with ID: cmrfquoq\n",
      "Sweep URL: https://app.wandb.ai/ds8/inclass/sweeps/cmrfquoq\n"
     ]
    }
   ],
   "source": [
    "sweep_id = wandb.sweep(sweep_config)"
   ]
  },
  {
   "cell_type": "code",
   "execution_count": 15,
   "metadata": {},
   "outputs": [],
   "source": [
    "import wandb\n",
    "from wandb.keras import WandbCallback\n",
    "#Initializes and Experiment\n",
    "\n",
    "from tensorflow.keras.optimizers import Adam\n",
    "\n",
    "# Important Hyperparameters\n",
    "X =  x_train\n",
    "y =  y_train\n",
    "\n",
    "inputs = X.shape[1]\n",
    "\n",
    "def train():\n",
    "    \n",
    "    wandb.init(project=\"boston\", entity=\"lambda-ds7\") \n",
    "    \n",
    "    config = wandb.config\n",
    "\n",
    "    # Create Model\n",
    "    model = Sequential()\n",
    "    model.add(Dense(64, activation='relu', input_shape=(inputs,)))\n",
    "    model.add(Dense(64, activation='relu'))\n",
    "    model.add(Dense(64, activation='relu'))\n",
    "    model.add(Dense(1))\n",
    "\n",
    "    # Optimizer \n",
    "    adam = Adam(learning_rate=config.learning_rate)\n",
    "\n",
    "    # Compile Model\n",
    "    model.compile(optimizer=adam, loss='mse', metrics=['mse', 'mae'])\n",
    "\n",
    "    # Fit Model\n",
    "    model.fit(X, y, \n",
    "              validation_split=0.33, \n",
    "              epochs=config.epochs, \n",
    "              batch_size=config.batch_size, \n",
    "              callbacks=[WandbCallback()]\n",
    "             )"
   ]
  },
  {
   "cell_type": "code",
   "execution_count": 16,
   "metadata": {},
   "outputs": [
    {
     "name": "stderr",
     "output_type": "stream",
     "text": [
      "Failed to query for notebook name, you can set it manually with the WANDB_NOTEBOOK_NAME environment variable\n"
     ]
    },
    {
     "name": "stdout",
     "output_type": "stream",
     "text": [
      "wandb: Agent Starting Run: uoabpqgr with config:\n",
      "\tbatch_size: 382.73014424231366\n",
      "\tepochs: 838.6730953684473\n",
      "\tlearning_rate: -0.10379493880989898\n"
     ]
    },
    {
     "name": "stderr",
     "output_type": "stream",
     "text": [
      "Error generating diff: Command '['git', 'diff', '--submodule=diff', 'HEAD']' timed out after 5 seconds\n"
     ]
    },
    {
     "name": "stdout",
     "output_type": "stream",
     "text": [
      "wandb: Agent Started Run: uoabpqgr\n"
     ]
    },
    {
     "data": {
      "text/html": [
       "\n",
       "                Logging results to <a href=\"https://wandb.com\" target=\"_blank\">Weights & Biases</a> <a href=\"https://docs.wandb.com/integrations/jupyter.html\" target=\"_blank\">(Documentation)</a>.<br/>\n",
       "                Project page: <a href=\"https://app.wandb.ai/lambda-ds7/boston\" target=\"_blank\">https://app.wandb.ai/lambda-ds7/boston</a><br/>\n",
       "                Run page: <a href=\"https://app.wandb.ai/lambda-ds7/boston/runs/tey9japg\" target=\"_blank\">https://app.wandb.ai/lambda-ds7/boston/runs/tey9japg</a><br/>\n",
       "            "
      ],
      "text/plain": [
       "<IPython.core.display.HTML object>"
      ]
     },
     "metadata": {},
     "output_type": "display_data"
    },
    {
     "name": "stderr",
     "output_type": "stream",
     "text": [
      "Failed to query for notebook name, you can set it manually with the WANDB_NOTEBOOK_NAME environment variable\n",
      "Error generating diff: Command '['git', 'diff', '--submodule=diff', 'HEAD']' timed out after 5 seconds\n",
      "Process Process-1:\n",
      "Traceback (most recent call last):\n",
      "  File \"/home/ec2-user/anaconda3/envs/tensorflow_p36/lib/python3.6/multiprocessing/process.py\", line 258, in _bootstrap\n",
      "    self.run()\n",
      "  File \"/home/ec2-user/anaconda3/envs/tensorflow_p36/lib/python3.6/multiprocessing/process.py\", line 93, in run\n",
      "    self._target(*self._args, **self._kwargs)\n",
      "  File \"/home/ec2-user/anaconda3/envs/tensorflow_p36/lib/python3.6/site-packages/wandb/wandb_agent.py\", line 62, in _start\n",
      "    function()\n",
      "  File \"<ipython-input-15-23dfe667f67c>\", line 27, in train\n",
      "    adam = Adam(learning_rate=config.learning_rate)\n",
      "  File \"/home/ec2-user/anaconda3/envs/tensorflow_p36/lib/python3.6/site-packages/wandb/wandb_config.py\", line 212, in __getattr__\n",
      "    return self.__getitem__(key)\n",
      "  File \"/home/ec2-user/anaconda3/envs/tensorflow_p36/lib/python3.6/site-packages/wandb/wandb_config.py\", line 202, in __getitem__\n",
      "    return self._items[key]\n",
      "KeyError: 'learning_rate'\n",
      "wandb: Ctrl-c pressed. Waiting for runs to end. Press ctrl-c again to terminate them.\n"
     ]
    }
   ],
   "source": [
    "wandb.agent(sweep_id, function=train)"
   ]
  },
  {
   "cell_type": "markdown",
   "metadata": {},
   "source": [
    "## Challenge\n",
    "\n",
    "Try to apply RandomSearchCV to your module project today. "
   ]
  },
  {
   "cell_type": "markdown",
   "metadata": {},
   "source": [
    "# Review\n",
    "* <a href=\"#p1\">Part 1</a>: Describe the major hyperparemeters to tune\n",
    "    - Activation Functions\n",
    "    - Optimizer\n",
    "    - Number of Layers\n",
    "    - Number of Neurons\n",
    "    - Batch Size\n",
    "    - Dropout Regulaization\n",
    "    - Learning Rate\n",
    "    - Number of Epochs\n",
    "    - and many more\n",
    "* <a href=\"#p2\">Part 2</a>: Implement an experiment tracking framework\n",
    "    - Weights & Biases\n",
    "    - Comet.ml\n",
    "    - By Hand / GridSearch\n",
    "* <a href=\"#p3\">Part 3</a>: Search the hyperparameter space using RandomSearch\n",
    "    - Sklearn still useful (haha)\n",
    "    - Integration with Wieghts & Biases\n",
    "* <a href=\"#p4\">Part 4</a>: Discuss emerging hyperparameter tuning strategies\n",
    "    - Bayesian Optimization\n",
    "    - Hyperopt\n",
    "    - Genetic Evolution"
   ]
  },
  {
   "cell_type": "markdown",
   "metadata": {},
   "source": [
    "# Sources"
   ]
  },
  {
   "cell_type": "markdown",
   "metadata": {},
   "source": [
    "## Additional Reading\n",
    "- https://machinelearningmastery.com/grid-search-hyperparameters-deep-learning-models-python-keras/\n",
    "- https://blog.floydhub.com/guide-to-hyperparameters-search-for-deep-learning-models/\n",
    "- https://machinelearningmastery.com/dropout-regularization-deep-learning-models-keras/\n",
    "- https://machinelearningmastery.com/introduction-to-weight-constraints-to-reduce-generalization-error-in-deep-learning/\n",
    "- https://machinelearningmastery.com/how-to-configure-the-number-of-layers-and-nodes-in-a-neural-network/"
   ]
  }
 ],
 "metadata": {
  "kernelspec": {
   "display_name": "U4-S1-NLP (Python3)",
   "language": "python",
   "name": "u4-s1-nlp"
  },
  "language_info": {
   "codemirror_mode": {
    "name": "ipython",
    "version": 3
   },
   "file_extension": ".py",
   "mimetype": "text/x-python",
   "name": "python",
   "nbconvert_exporter": "python",
   "pygments_lexer": "ipython3",
   "version": "3.7.5"
  },
  "nbdime-conflicts": {
   "local_diff": [
    {
     "diff": [
      {
       "diff": [
        {
         "diff": [
          {
           "key": 4,
           "op": "addrange",
           "valuelist": "5"
          },
          {
           "key": 4,
           "length": 1,
           "op": "removerange"
          }
         ],
         "key": 0,
         "op": "patch"
        }
       ],
       "key": "version",
       "op": "patch"
      }
     ],
     "key": "language_info",
     "op": "patch"
    }
   ],
   "remote_diff": [
    {
     "diff": [
      {
       "diff": [
        {
         "key": 0,
         "length": 1,
         "op": "removerange"
        }
       ],
       "key": "version",
       "op": "patch"
      }
     ],
     "key": "language_info",
     "op": "patch"
    }
   ]
  }
 },
 "nbformat": 4,
 "nbformat_minor": 4
}
